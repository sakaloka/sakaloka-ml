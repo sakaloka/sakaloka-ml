{
  "cells": [
    {
      "cell_type": "markdown",
      "metadata": {
        "id": "d2R-WOLGgEhu"
      },
      "source": [
        "# Recommedation Model"
      ]
    },
    {
      "cell_type": "markdown",
      "metadata": {
        "id": "o_rKQ-sLkoo_"
      },
      "source": [
        "## Data Preprocessing"
      ]
    },
    {
      "cell_type": "markdown",
      "metadata": {
        "id": "5HVADIN-ku7c"
      },
      "source": [
        "### Places"
      ]
    },
    {
      "cell_type": "code",
      "execution_count": 1,
      "metadata": {
        "id": "5_UjPuxVKPMD"
      },
      "outputs": [],
      "source": [
        "import gdown\n",
        "import pandas as pd"
      ]
    },
    {
      "cell_type": "code",
      "execution_count": 2,
      "metadata": {
        "colab": {
          "base_uri": "https://localhost:8080/",
          "height": 104
        },
        "id": "YtqE6jP0gDTN",
        "outputId": "157f7bd9-bf63-432d-a990-bf56c4254d99"
      },
      "outputs": [
        {
          "name": "stderr",
          "output_type": "stream",
          "text": [
            "Downloading...\n",
            "From: https://drive.google.com/uc?id=1Cme0aXSNXxAUhjy_uvvX6umAihnm80aP\n",
            "To: d:\\CODING-CAMP CAPSTONE\\Model Rating Based\\Rating Based\\eco_place.csv\n",
            "100%|██████████| 222k/222k [00:00<00:00, 1.23MB/s]\n"
          ]
        },
        {
          "data": {
            "text/plain": [
              "'eco_place.csv'"
            ]
          },
          "execution_count": 2,
          "metadata": {},
          "output_type": "execute_result"
        }
      ],
      "source": [
        "file_id = \"1Cme0aXSNXxAUhjy_uvvX6umAihnm80aP\"\n",
        "gdown_url = f\"https://drive.google.com/uc?id={file_id}\"\n",
        "\n",
        "gdown.download(gdown_url, quiet=False)"
      ]
    },
    {
      "cell_type": "code",
      "execution_count": 3,
      "metadata": {
        "colab": {
          "base_uri": "https://localhost:8080/",
          "height": 434
        },
        "id": "L5EV-ZcFgmBw",
        "outputId": "1ca14a58-aad4-4ab9-81cd-af9258441e94"
      },
      "outputs": [
        {
          "data": {
            "text/html": [
              "<div>\n",
              "<style scoped>\n",
              "    .dataframe tbody tr th:only-of-type {\n",
              "        vertical-align: middle;\n",
              "    }\n",
              "\n",
              "    .dataframe tbody tr th {\n",
              "        vertical-align: top;\n",
              "    }\n",
              "\n",
              "    .dataframe thead th {\n",
              "        text-align: right;\n",
              "    }\n",
              "</style>\n",
              "<table border=\"1\" class=\"dataframe\">\n",
              "  <thead>\n",
              "    <tr style=\"text-align: right;\">\n",
              "      <th></th>\n",
              "      <th>place_id</th>\n",
              "      <th>place_name</th>\n",
              "      <th>place_description</th>\n",
              "      <th>category</th>\n",
              "      <th>city</th>\n",
              "      <th>price</th>\n",
              "      <th>rating</th>\n",
              "      <th>description_location</th>\n",
              "      <th>place_img</th>\n",
              "      <th>gallery_photo_img1</th>\n",
              "      <th>gallery_photo_img2</th>\n",
              "      <th>gallery_photo_img3</th>\n",
              "      <th>place_map</th>\n",
              "    </tr>\n",
              "  </thead>\n",
              "  <tbody>\n",
              "    <tr>\n",
              "      <th>0</th>\n",
              "      <td>1</td>\n",
              "      <td>Taman Nasional Gunung Leuser</td>\n",
              "      <td>Taman Nasional Gunung Leuser adalah salah satu...</td>\n",
              "      <td>Budaya,Taman Nasional</td>\n",
              "      <td>Aceh</td>\n",
              "      <td>Rp25,000</td>\n",
              "      <td>4.5</td>\n",
              "      <td>Barisan mountain range, Aceh 24653</td>\n",
              "      <td>https://storage.googleapis.com/travelee-capsto...</td>\n",
              "      <td>https://storage.googleapis.com/travelee-capsto...</td>\n",
              "      <td>https://storage.googleapis.com/travelee-capsto...</td>\n",
              "      <td>https://storage.googleapis.com/travelee-capsto...</td>\n",
              "      <td>https://www.google.com/maps/search/Taman+Nasio...</td>\n",
              "    </tr>\n",
              "    <tr>\n",
              "      <th>1</th>\n",
              "      <td>2</td>\n",
              "      <td>Desa Wisata Munduk</td>\n",
              "      <td>Desa Wisata Munduk adalah sebuah desa di pegun...</td>\n",
              "      <td>Desa Wisata</td>\n",
              "      <td>Bali</td>\n",
              "      <td>Rp10,000</td>\n",
              "      <td>4.5</td>\n",
              "      <td>Munduk, Banjar, Kabupaten Buleleng, Bali</td>\n",
              "      <td>https://storage.googleapis.com/travelee-capsto...</td>\n",
              "      <td>https://storage.googleapis.com/travelee-capsto...</td>\n",
              "      <td>https://storage.googleapis.com/travelee-capsto...</td>\n",
              "      <td>https://storage.googleapis.com/travelee-capsto...</td>\n",
              "      <td>https://goo.gl/maps/LyeJ2mAeFGysTE9v9</td>\n",
              "    </tr>\n",
              "    <tr>\n",
              "      <th>2</th>\n",
              "      <td>3</td>\n",
              "      <td>Desa Wisata Penglipuran</td>\n",
              "      <td>Desa Wisata Penglipuran adalah sebuah desa wis...</td>\n",
              "      <td>Budaya,Desa Wisata</td>\n",
              "      <td>Bali</td>\n",
              "      <td>Rp25,000</td>\n",
              "      <td>4.8</td>\n",
              "      <td>Jl. Penglipuran, Kubu, Kec. Bangli, Kabupaten ...</td>\n",
              "      <td>https://storage.googleapis.com/travelee-capsto...</td>\n",
              "      <td>https://storage.googleapis.com/travelee-capsto...</td>\n",
              "      <td>https://storage.googleapis.com/travelee-capsto...</td>\n",
              "      <td>https://storage.googleapis.com/travelee-capsto...</td>\n",
              "      <td>https://www.google.com/maps/search/Desa+Wisata...</td>\n",
              "    </tr>\n",
              "    <tr>\n",
              "      <th>3</th>\n",
              "      <td>4</td>\n",
              "      <td>Taman Nasional Bali Barat</td>\n",
              "      <td>Taman Nasional Bali Barat adalah kawasan konse...</td>\n",
              "      <td>Taman Nasional,Cagar Alam</td>\n",
              "      <td>Bali</td>\n",
              "      <td>Rp15,000</td>\n",
              "      <td>4.5</td>\n",
              "      <td>Sumber Klampok, Bali</td>\n",
              "      <td>https://storage.googleapis.com/travelee-capsto...</td>\n",
              "      <td>https://storage.googleapis.com/travelee-capsto...</td>\n",
              "      <td>https://storage.googleapis.com/travelee-capsto...</td>\n",
              "      <td>https://storage.googleapis.com/travelee-capsto...</td>\n",
              "      <td>https://www.google.com/maps/search/Taman+Nasio...</td>\n",
              "    </tr>\n",
              "    <tr>\n",
              "      <th>4</th>\n",
              "      <td>5</td>\n",
              "      <td>Bukit Jamur</td>\n",
              "      <td>Bukit Jamur Ciwidey adalah satu dari sekian ba...</td>\n",
              "      <td>Cagar Alam</td>\n",
              "      <td>Bandung</td>\n",
              "      <td>Rp12,000</td>\n",
              "      <td>4.2</td>\n",
              "      <td>Sugihmukti, Kec. Pasirjambu, Kabupaten Bandung...</td>\n",
              "      <td>https://storage.googleapis.com/travelee-capsto...</td>\n",
              "      <td>https://storage.googleapis.com/travelee-capsto...</td>\n",
              "      <td>https://storage.googleapis.com/travelee-capsto...</td>\n",
              "      <td>https://storage.googleapis.com/travelee-capsto...</td>\n",
              "      <td>https://www.google.com/maps/search/Bukit+Jamur</td>\n",
              "    </tr>\n",
              "  </tbody>\n",
              "</table>\n",
              "</div>"
            ],
            "text/plain": [
              "   place_id                    place_name  \\\n",
              "0         1  Taman Nasional Gunung Leuser   \n",
              "1         2            Desa Wisata Munduk   \n",
              "2         3       Desa Wisata Penglipuran   \n",
              "3         4     Taman Nasional Bali Barat   \n",
              "4         5                   Bukit Jamur   \n",
              "\n",
              "                                   place_description  \\\n",
              "0  Taman Nasional Gunung Leuser adalah salah satu...   \n",
              "1  Desa Wisata Munduk adalah sebuah desa di pegun...   \n",
              "2  Desa Wisata Penglipuran adalah sebuah desa wis...   \n",
              "3  Taman Nasional Bali Barat adalah kawasan konse...   \n",
              "4  Bukit Jamur Ciwidey adalah satu dari sekian ba...   \n",
              "\n",
              "                    category     city     price  rating  \\\n",
              "0      Budaya,Taman Nasional     Aceh  Rp25,000     4.5   \n",
              "1                Desa Wisata     Bali  Rp10,000     4.5   \n",
              "2         Budaya,Desa Wisata     Bali  Rp25,000     4.8   \n",
              "3  Taman Nasional,Cagar Alam     Bali  Rp15,000     4.5   \n",
              "4                 Cagar Alam  Bandung  Rp12,000     4.2   \n",
              "\n",
              "                                description_location  \\\n",
              "0                 Barisan mountain range, Aceh 24653   \n",
              "1           Munduk, Banjar, Kabupaten Buleleng, Bali   \n",
              "2  Jl. Penglipuran, Kubu, Kec. Bangli, Kabupaten ...   \n",
              "3                               Sumber Klampok, Bali   \n",
              "4  Sugihmukti, Kec. Pasirjambu, Kabupaten Bandung...   \n",
              "\n",
              "                                           place_img  \\\n",
              "0  https://storage.googleapis.com/travelee-capsto...   \n",
              "1  https://storage.googleapis.com/travelee-capsto...   \n",
              "2  https://storage.googleapis.com/travelee-capsto...   \n",
              "3  https://storage.googleapis.com/travelee-capsto...   \n",
              "4  https://storage.googleapis.com/travelee-capsto...   \n",
              "\n",
              "                                  gallery_photo_img1  \\\n",
              "0  https://storage.googleapis.com/travelee-capsto...   \n",
              "1  https://storage.googleapis.com/travelee-capsto...   \n",
              "2  https://storage.googleapis.com/travelee-capsto...   \n",
              "3  https://storage.googleapis.com/travelee-capsto...   \n",
              "4  https://storage.googleapis.com/travelee-capsto...   \n",
              "\n",
              "                                  gallery_photo_img2  \\\n",
              "0  https://storage.googleapis.com/travelee-capsto...   \n",
              "1  https://storage.googleapis.com/travelee-capsto...   \n",
              "2  https://storage.googleapis.com/travelee-capsto...   \n",
              "3  https://storage.googleapis.com/travelee-capsto...   \n",
              "4  https://storage.googleapis.com/travelee-capsto...   \n",
              "\n",
              "                                  gallery_photo_img3  \\\n",
              "0  https://storage.googleapis.com/travelee-capsto...   \n",
              "1  https://storage.googleapis.com/travelee-capsto...   \n",
              "2  https://storage.googleapis.com/travelee-capsto...   \n",
              "3  https://storage.googleapis.com/travelee-capsto...   \n",
              "4  https://storage.googleapis.com/travelee-capsto...   \n",
              "\n",
              "                                           place_map  \n",
              "0  https://www.google.com/maps/search/Taman+Nasio...  \n",
              "1              https://goo.gl/maps/LyeJ2mAeFGysTE9v9  \n",
              "2  https://www.google.com/maps/search/Desa+Wisata...  \n",
              "3  https://www.google.com/maps/search/Taman+Nasio...  \n",
              "4     https://www.google.com/maps/search/Bukit+Jamur  "
            ]
          },
          "execution_count": 3,
          "metadata": {},
          "output_type": "execute_result"
        }
      ],
      "source": [
        "places = pd.read_csv(\"eco_place.csv\")\n",
        "places.head()"
      ]
    },
    {
      "cell_type": "code",
      "execution_count": 4,
      "metadata": {
        "colab": {
          "base_uri": "https://localhost:8080/"
        },
        "id": "bhi-V8fAk8er",
        "outputId": "4671d6f7-57ea-436b-d491-2a2b69454928"
      },
      "outputs": [
        {
          "name": "stdout",
          "output_type": "stream",
          "text": [
            "<class 'pandas.core.frame.DataFrame'>\n",
            "RangeIndex: 182 entries, 0 to 181\n",
            "Data columns (total 13 columns):\n",
            " #   Column                Non-Null Count  Dtype  \n",
            "---  ------                --------------  -----  \n",
            " 0   place_id              182 non-null    int64  \n",
            " 1   place_name            182 non-null    object \n",
            " 2   place_description     182 non-null    object \n",
            " 3   category              182 non-null    object \n",
            " 4   city                  182 non-null    object \n",
            " 5   price                 182 non-null    object \n",
            " 6   rating                182 non-null    float64\n",
            " 7   description_location  182 non-null    object \n",
            " 8   place_img             182 non-null    object \n",
            " 9   gallery_photo_img1    182 non-null    object \n",
            " 10  gallery_photo_img2    180 non-null    object \n",
            " 11  gallery_photo_img3    105 non-null    object \n",
            " 12  place_map             182 non-null    object \n",
            "dtypes: float64(1), int64(1), object(11)\n",
            "memory usage: 18.6+ KB\n"
          ]
        }
      ],
      "source": [
        "places.info()"
      ]
    },
    {
      "cell_type": "code",
      "execution_count": 5,
      "metadata": {
        "colab": {
          "base_uri": "https://localhost:8080/",
          "height": 300
        },
        "id": "JxmANNjXlAsr",
        "outputId": "1bd65fe0-153b-4f7c-f6b4-4b63c296a2eb"
      },
      "outputs": [
        {
          "data": {
            "text/html": [
              "<div>\n",
              "<style scoped>\n",
              "    .dataframe tbody tr th:only-of-type {\n",
              "        vertical-align: middle;\n",
              "    }\n",
              "\n",
              "    .dataframe tbody tr th {\n",
              "        vertical-align: top;\n",
              "    }\n",
              "\n",
              "    .dataframe thead th {\n",
              "        text-align: right;\n",
              "    }\n",
              "</style>\n",
              "<table border=\"1\" class=\"dataframe\">\n",
              "  <thead>\n",
              "    <tr style=\"text-align: right;\">\n",
              "      <th></th>\n",
              "      <th>place_id</th>\n",
              "      <th>rating</th>\n",
              "    </tr>\n",
              "  </thead>\n",
              "  <tbody>\n",
              "    <tr>\n",
              "      <th>count</th>\n",
              "      <td>182.000000</td>\n",
              "      <td>182.000000</td>\n",
              "    </tr>\n",
              "    <tr>\n",
              "      <th>mean</th>\n",
              "      <td>91.500000</td>\n",
              "      <td>4.424725</td>\n",
              "    </tr>\n",
              "    <tr>\n",
              "      <th>std</th>\n",
              "      <td>52.683014</td>\n",
              "      <td>0.224700</td>\n",
              "    </tr>\n",
              "    <tr>\n",
              "      <th>min</th>\n",
              "      <td>1.000000</td>\n",
              "      <td>3.400000</td>\n",
              "    </tr>\n",
              "    <tr>\n",
              "      <th>25%</th>\n",
              "      <td>46.250000</td>\n",
              "      <td>4.300000</td>\n",
              "    </tr>\n",
              "    <tr>\n",
              "      <th>50%</th>\n",
              "      <td>91.500000</td>\n",
              "      <td>4.400000</td>\n",
              "    </tr>\n",
              "    <tr>\n",
              "      <th>75%</th>\n",
              "      <td>136.750000</td>\n",
              "      <td>4.600000</td>\n",
              "    </tr>\n",
              "    <tr>\n",
              "      <th>max</th>\n",
              "      <td>182.000000</td>\n",
              "      <td>5.000000</td>\n",
              "    </tr>\n",
              "  </tbody>\n",
              "</table>\n",
              "</div>"
            ],
            "text/plain": [
              "         place_id      rating\n",
              "count  182.000000  182.000000\n",
              "mean    91.500000    4.424725\n",
              "std     52.683014    0.224700\n",
              "min      1.000000    3.400000\n",
              "25%     46.250000    4.300000\n",
              "50%     91.500000    4.400000\n",
              "75%    136.750000    4.600000\n",
              "max    182.000000    5.000000"
            ]
          },
          "execution_count": 5,
          "metadata": {},
          "output_type": "execute_result"
        }
      ],
      "source": [
        "places.describe()"
      ]
    },
    {
      "cell_type": "code",
      "execution_count": 6,
      "metadata": {
        "id": "W6Eo6Nbjlfqk"
      },
      "outputs": [],
      "source": [
        "places = places.drop(columns=[\n",
        "    'description_location',\n",
        "    'place_img',\n",
        "    'gallery_photo_img1',\n",
        "    'gallery_photo_img2',\n",
        "    'gallery_photo_img3',\n",
        "    'place_map'\n",
        "])"
      ]
    },
    {
      "cell_type": "code",
      "execution_count": 7,
      "metadata": {
        "colab": {
          "base_uri": "https://localhost:8080/",
          "height": 303
        },
        "id": "V-E4IpnZl_fX",
        "outputId": "9f92341a-15b5-4431-df32-8cd75ca5ec38"
      },
      "outputs": [
        {
          "data": {
            "text/plain": [
              "place_id             0\n",
              "place_name           0\n",
              "place_description    0\n",
              "category             0\n",
              "city                 0\n",
              "price                0\n",
              "rating               0\n",
              "dtype: int64"
            ]
          },
          "execution_count": 7,
          "metadata": {},
          "output_type": "execute_result"
        }
      ],
      "source": [
        "places.isnull().sum()"
      ]
    },
    {
      "cell_type": "code",
      "execution_count": 8,
      "metadata": {
        "colab": {
          "base_uri": "https://localhost:8080/"
        },
        "id": "eYXPo926mWS4",
        "outputId": "a79385ca-ecfc-43eb-ac69-90dd8c234812"
      },
      "outputs": [
        {
          "name": "stdout",
          "output_type": "stream",
          "text": [
            "Jumlah data places yang duplikat: 0\n"
          ]
        }
      ],
      "source": [
        "print(f'Jumlah data places yang duplikat: {places.duplicated().sum()}')"
      ]
    },
    {
      "cell_type": "markdown",
      "metadata": {
        "id": "ZFRxN_8mkypS"
      },
      "source": [
        "### Ratings"
      ]
    },
    {
      "cell_type": "code",
      "execution_count": 9,
      "metadata": {
        "colab": {
          "base_uri": "https://localhost:8080/",
          "height": 104
        },
        "id": "EKNx6BUdiFre",
        "outputId": "a00feaea-be81-48cb-ce4a-bf898574d52e"
      },
      "outputs": [
        {
          "name": "stderr",
          "output_type": "stream",
          "text": [
            "Downloading...\n",
            "From: https://drive.google.com/uc?id=1jkxU46SIwu56rY2-kTKHMK9JtqiLCN4c\n",
            "To: d:\\CODING-CAMP CAPSTONE\\Model Rating Based\\Rating Based\\eco_rating.csv\n",
            "100%|██████████| 8.25k/8.25k [00:00<00:00, 176kB/s]\n"
          ]
        },
        {
          "data": {
            "text/plain": [
              "'eco_rating.csv'"
            ]
          },
          "execution_count": 9,
          "metadata": {},
          "output_type": "execute_result"
        }
      ],
      "source": [
        "file_id = \"1jkxU46SIwu56rY2-kTKHMK9JtqiLCN4c\"\n",
        "gdown_url = f\"https://drive.google.com/uc?id={file_id}\"\n",
        "\n",
        "gdown.download(gdown_url, quiet=False)"
      ]
    },
    {
      "cell_type": "code",
      "execution_count": 10,
      "metadata": {
        "colab": {
          "base_uri": "https://localhost:8080/",
          "height": 206
        },
        "id": "tQw5DW4XiRat",
        "outputId": "004d4e8d-3462-41ad-fbfa-e0c291373dd7"
      },
      "outputs": [
        {
          "data": {
            "text/html": [
              "<div>\n",
              "<style scoped>\n",
              "    .dataframe tbody tr th:only-of-type {\n",
              "        vertical-align: middle;\n",
              "    }\n",
              "\n",
              "    .dataframe tbody tr th {\n",
              "        vertical-align: top;\n",
              "    }\n",
              "\n",
              "    .dataframe thead th {\n",
              "        text-align: right;\n",
              "    }\n",
              "</style>\n",
              "<table border=\"1\" class=\"dataframe\">\n",
              "  <thead>\n",
              "    <tr style=\"text-align: right;\">\n",
              "      <th></th>\n",
              "      <th>user_id</th>\n",
              "      <th>place_id</th>\n",
              "      <th>user_rating</th>\n",
              "    </tr>\n",
              "  </thead>\n",
              "  <tbody>\n",
              "    <tr>\n",
              "      <th>0</th>\n",
              "      <td>1</td>\n",
              "      <td>28</td>\n",
              "      <td>2</td>\n",
              "    </tr>\n",
              "    <tr>\n",
              "      <th>1</th>\n",
              "      <td>1</td>\n",
              "      <td>86</td>\n",
              "      <td>4</td>\n",
              "    </tr>\n",
              "    <tr>\n",
              "      <th>2</th>\n",
              "      <td>1</td>\n",
              "      <td>94</td>\n",
              "      <td>4</td>\n",
              "    </tr>\n",
              "    <tr>\n",
              "      <th>3</th>\n",
              "      <td>1</td>\n",
              "      <td>146</td>\n",
              "      <td>3</td>\n",
              "    </tr>\n",
              "    <tr>\n",
              "      <th>4</th>\n",
              "      <td>2</td>\n",
              "      <td>17</td>\n",
              "      <td>2</td>\n",
              "    </tr>\n",
              "  </tbody>\n",
              "</table>\n",
              "</div>"
            ],
            "text/plain": [
              "   user_id  place_id  user_rating\n",
              "0        1        28            2\n",
              "1        1        86            4\n",
              "2        1        94            4\n",
              "3        1       146            3\n",
              "4        2        17            2"
            ]
          },
          "execution_count": 10,
          "metadata": {},
          "output_type": "execute_result"
        }
      ],
      "source": [
        "ratings = pd.read_csv(\"eco_rating.csv\")\n",
        "ratings.head()"
      ]
    },
    {
      "cell_type": "code",
      "execution_count": 11,
      "metadata": {
        "colab": {
          "base_uri": "https://localhost:8080/"
        },
        "id": "WfBaZm0OlTIf",
        "outputId": "672cc344-f9e2-4541-aa8e-da7ae91c8320"
      },
      "outputs": [
        {
          "name": "stdout",
          "output_type": "stream",
          "text": [
            "<class 'pandas.core.frame.DataFrame'>\n",
            "RangeIndex: 849 entries, 0 to 848\n",
            "Data columns (total 3 columns):\n",
            " #   Column       Non-Null Count  Dtype\n",
            "---  ------       --------------  -----\n",
            " 0   user_id      849 non-null    int64\n",
            " 1   place_id     849 non-null    int64\n",
            " 2   user_rating  849 non-null    int64\n",
            "dtypes: int64(3)\n",
            "memory usage: 20.0 KB\n"
          ]
        }
      ],
      "source": [
        "ratings.info()"
      ]
    },
    {
      "cell_type": "code",
      "execution_count": 12,
      "metadata": {
        "colab": {
          "base_uri": "https://localhost:8080/",
          "height": 300
        },
        "id": "hJAMomh4lYu5",
        "outputId": "f889c7e7-e5f4-4ffa-9e6e-c2210d6405f0"
      },
      "outputs": [
        {
          "data": {
            "text/html": [
              "<div>\n",
              "<style scoped>\n",
              "    .dataframe tbody tr th:only-of-type {\n",
              "        vertical-align: middle;\n",
              "    }\n",
              "\n",
              "    .dataframe tbody tr th {\n",
              "        vertical-align: top;\n",
              "    }\n",
              "\n",
              "    .dataframe thead th {\n",
              "        text-align: right;\n",
              "    }\n",
              "</style>\n",
              "<table border=\"1\" class=\"dataframe\">\n",
              "  <thead>\n",
              "    <tr style=\"text-align: right;\">\n",
              "      <th></th>\n",
              "      <th>user_id</th>\n",
              "      <th>place_id</th>\n",
              "      <th>user_rating</th>\n",
              "    </tr>\n",
              "  </thead>\n",
              "  <tbody>\n",
              "    <tr>\n",
              "      <th>count</th>\n",
              "      <td>849.000000</td>\n",
              "      <td>849.000000</td>\n",
              "      <td>849.000000</td>\n",
              "    </tr>\n",
              "    <tr>\n",
              "      <th>mean</th>\n",
              "      <td>77.792697</td>\n",
              "      <td>89.064782</td>\n",
              "      <td>3.507656</td>\n",
              "    </tr>\n",
              "    <tr>\n",
              "      <th>std</th>\n",
              "      <td>44.226709</td>\n",
              "      <td>53.242054</td>\n",
              "      <td>0.948062</td>\n",
              "    </tr>\n",
              "    <tr>\n",
              "      <th>min</th>\n",
              "      <td>1.000000</td>\n",
              "      <td>2.000000</td>\n",
              "      <td>2.000000</td>\n",
              "    </tr>\n",
              "    <tr>\n",
              "      <th>25%</th>\n",
              "      <td>41.000000</td>\n",
              "      <td>43.000000</td>\n",
              "      <td>3.000000</td>\n",
              "    </tr>\n",
              "    <tr>\n",
              "      <th>50%</th>\n",
              "      <td>77.000000</td>\n",
              "      <td>87.000000</td>\n",
              "      <td>4.000000</td>\n",
              "    </tr>\n",
              "    <tr>\n",
              "      <th>75%</th>\n",
              "      <td>115.000000</td>\n",
              "      <td>134.000000</td>\n",
              "      <td>4.000000</td>\n",
              "    </tr>\n",
              "    <tr>\n",
              "      <th>max</th>\n",
              "      <td>156.000000</td>\n",
              "      <td>183.000000</td>\n",
              "      <td>5.000000</td>\n",
              "    </tr>\n",
              "  </tbody>\n",
              "</table>\n",
              "</div>"
            ],
            "text/plain": [
              "          user_id    place_id  user_rating\n",
              "count  849.000000  849.000000   849.000000\n",
              "mean    77.792697   89.064782     3.507656\n",
              "std     44.226709   53.242054     0.948062\n",
              "min      1.000000    2.000000     2.000000\n",
              "25%     41.000000   43.000000     3.000000\n",
              "50%     77.000000   87.000000     4.000000\n",
              "75%    115.000000  134.000000     4.000000\n",
              "max    156.000000  183.000000     5.000000"
            ]
          },
          "execution_count": 12,
          "metadata": {},
          "output_type": "execute_result"
        }
      ],
      "source": [
        "ratings.describe()"
      ]
    },
    {
      "cell_type": "code",
      "execution_count": 13,
      "metadata": {
        "colab": {
          "base_uri": "https://localhost:8080/",
          "height": 178
        },
        "id": "P8v6Sq2nmMBR",
        "outputId": "158757be-d151-44b6-9ba0-647880af36a0"
      },
      "outputs": [
        {
          "data": {
            "text/plain": [
              "user_id        0\n",
              "place_id       0\n",
              "user_rating    0\n",
              "dtype: int64"
            ]
          },
          "execution_count": 13,
          "metadata": {},
          "output_type": "execute_result"
        }
      ],
      "source": [
        "ratings.isnull().sum()"
      ]
    },
    {
      "cell_type": "code",
      "execution_count": 14,
      "metadata": {
        "colab": {
          "base_uri": "https://localhost:8080/"
        },
        "id": "dNVMiVcJmRWp",
        "outputId": "59592151-eee2-4eb5-8508-179c986be0fe"
      },
      "outputs": [
        {
          "name": "stdout",
          "output_type": "stream",
          "text": [
            "Jumlah data rating yang duplikat: 3\n"
          ]
        }
      ],
      "source": [
        "print(f'Jumlah data rating yang duplikat: {ratings.duplicated().sum()}')"
      ]
    },
    {
      "cell_type": "code",
      "execution_count": 15,
      "metadata": {
        "id": "Pce_Jdm7mYv_"
      },
      "outputs": [],
      "source": [
        "ratings.drop_duplicates(inplace = True)"
      ]
    },
    {
      "cell_type": "code",
      "execution_count": 22,
      "metadata": {},
      "outputs": [],
      "source": [
        "ratings.to_csv(\"eco_rating_new.csv\", index= True)"
      ]
    },
    {
      "cell_type": "markdown",
      "metadata": {
        "id": "dmRmgWstmfQL"
      },
      "source": [
        "## Modelling"
      ]
    },
    {
      "cell_type": "markdown",
      "metadata": {
        "id": "vf6FnJzGmlXW"
      },
      "source": [
        "### Content Based"
      ]
    },
    {
      "cell_type": "code",
      "execution_count": 16,
      "metadata": {
        "id": "xeDdxByppDof"
      },
      "outputs": [],
      "source": [
        "from sklearn.feature_extraction.text import TfidfVectorizer\n",
        "from sklearn.metrics.pairwise import cosine_similarity\n",
        "import pandas as pd\n",
        "\n",
        "# TF-IDF\n",
        "places['combined'] = (\n",
        "    places['category'].fillna('') + ' ' +\n",
        "    places['place_description'].fillna('') + ' ' +\n",
        "    places['city'].fillna('')\n",
        ")\n",
        "\n",
        "tfidf = TfidfVectorizer()\n",
        "tfidf_matrix = tfidf.fit_transform(places['combined'])\n",
        "\n",
        "# Cosine Similarity Matrix\n",
        "cosine_sim = cosine_similarity(tfidf_matrix)\n",
        "cosine_sim_df = pd.DataFrame(\n",
        "    cosine_sim,\n",
        "    index=places['place_name'],\n",
        "    columns=places['place_name']\n",
        ")"
      ]
    },
    {
      "cell_type": "code",
      "execution_count": 17,
      "metadata": {
        "id": "v1raRjtCpiM5"
      },
      "outputs": [],
      "source": [
        "# Function Recommendation\n",
        "def recommend_places(place_name, similarity_df, item_data, k=5):\n",
        "    if place_name not in similarity_df.columns:\n",
        "        raise ValueError(f\"Tempat '{place_name}' tidak ditemukan dalam similarity matrix.\")\n",
        "\n",
        "    similarity_scores = similarity_df[place_name].drop(place_name, errors='ignore')\n",
        "    top_k = similarity_scores.nlargest(k)\n",
        "\n",
        "    recommendations = item_data[item_data['place_name'].isin(top_k.index)].copy()\n",
        "    recommendations['similarity'] = recommendations['place_name'].map(top_k)\n",
        "\n",
        "    return recommendations.sort_values(by='similarity', ascending=False).reset_index(drop=True)\n"
      ]
    },
    {
      "cell_type": "code",
      "execution_count": 18,
      "metadata": {
        "colab": {
          "base_uri": "https://localhost:8080/",
          "height": 206
        },
        "id": "QqObQKjIpvZp",
        "outputId": "e5b2139d-1130-4dd4-987b-c57f009652ce"
      },
      "outputs": [
        {
          "data": {
            "text/html": [
              "<div>\n",
              "<style scoped>\n",
              "    .dataframe tbody tr th:only-of-type {\n",
              "        vertical-align: middle;\n",
              "    }\n",
              "\n",
              "    .dataframe tbody tr th {\n",
              "        vertical-align: top;\n",
              "    }\n",
              "\n",
              "    .dataframe thead th {\n",
              "        text-align: right;\n",
              "    }\n",
              "</style>\n",
              "<table border=\"1\" class=\"dataframe\">\n",
              "  <thead>\n",
              "    <tr style=\"text-align: right;\">\n",
              "      <th></th>\n",
              "      <th>place_name</th>\n",
              "      <th>category</th>\n",
              "      <th>city</th>\n",
              "      <th>similarity</th>\n",
              "    </tr>\n",
              "  </thead>\n",
              "  <tbody>\n",
              "    <tr>\n",
              "      <th>0</th>\n",
              "      <td>Taman Wisata Alam Ranca Upas</td>\n",
              "      <td>Budaya,Cagar Alam</td>\n",
              "      <td>Bandung</td>\n",
              "      <td>0.225217</td>\n",
              "    </tr>\n",
              "    <tr>\n",
              "      <th>1</th>\n",
              "      <td>Bukit Wisata Pulepayung</td>\n",
              "      <td>Cagar Alam</td>\n",
              "      <td>Yogyakarta</td>\n",
              "      <td>0.216603</td>\n",
              "    </tr>\n",
              "    <tr>\n",
              "      <th>2</th>\n",
              "      <td>Bukit Moko</td>\n",
              "      <td>Cagar Alam</td>\n",
              "      <td>Bandung</td>\n",
              "      <td>0.199192</td>\n",
              "    </tr>\n",
              "    <tr>\n",
              "      <th>3</th>\n",
              "      <td>Happyfarm Ciwidey</td>\n",
              "      <td>Cagar Alam</td>\n",
              "      <td>Bandung</td>\n",
              "      <td>0.199020</td>\n",
              "    </tr>\n",
              "    <tr>\n",
              "      <th>4</th>\n",
              "      <td>Bukit Panguk Kediwung</td>\n",
              "      <td>Budaya,Cagar Alam</td>\n",
              "      <td>Yogyakarta</td>\n",
              "      <td>0.188944</td>\n",
              "    </tr>\n",
              "  </tbody>\n",
              "</table>\n",
              "</div>"
            ],
            "text/plain": [
              "                     place_name           category        city  similarity\n",
              "0  Taman Wisata Alam Ranca Upas  Budaya,Cagar Alam     Bandung    0.225217\n",
              "1       Bukit Wisata Pulepayung         Cagar Alam  Yogyakarta    0.216603\n",
              "2                    Bukit Moko         Cagar Alam     Bandung    0.199192\n",
              "3             Happyfarm Ciwidey         Cagar Alam     Bandung    0.199020\n",
              "4         Bukit Panguk Kediwung  Budaya,Cagar Alam  Yogyakarta    0.188944"
            ]
          },
          "metadata": {},
          "output_type": "display_data"
        }
      ],
      "source": [
        "recommendations = recommend_places(\n",
        "    place_name=\"Bukit Jamur\",\n",
        "    similarity_df=cosine_sim_df,\n",
        "    item_data=places[['place_name', 'category', 'city']],\n",
        "    k=5\n",
        ")\n",
        "\n",
        "display(recommendations)"
      ]
    },
    {
      "cell_type": "markdown",
      "metadata": {
        "id": "ZyGhifBOmnka"
      },
      "source": [
        "### Collaborative"
      ]
    },
    {
      "cell_type": "code",
      "execution_count": 19,
      "metadata": {
        "id": "y09XLqXwH4bv"
      },
      "outputs": [],
      "source": [
        "from sklearn.model_selection import train_test_split\n",
        "from sklearn.preprocessing import LabelEncoder\n",
        "import tensorflow as tf\n",
        "from tensorflow import keras\n",
        "from tensorflow.keras import layers\n",
        "\n",
        "user_encoder = LabelEncoder()\n",
        "place_encoder = LabelEncoder()\n",
        "\n",
        "ratings['user'] = user_encoder.fit_transform(ratings['user_id'])\n",
        "ratings['place'] = place_encoder.fit_transform(ratings['place_id'])\n",
        "\n",
        "# Normalisasi rating\n",
        "ratings['normalized_rating'] = ratings['user_rating'] / 5.0\n",
        "\n",
        "# Split data\n",
        "x = ratings[['user', 'place']].values\n",
        "y = ratings['normalized_rating'].values\n",
        "x_train, x_val, y_train, y_val = train_test_split(x, y, test_size=0.2, random_state=42)"
      ]
    },
    {
      "cell_type": "code",
      "execution_count": 20,
      "metadata": {
        "id": "dwkXEDedIWvY"
      },
      "outputs": [],
      "source": [
        "class RecommenderNet(tf.keras.Model):\n",
        "    def __init__(self, users_count, places_count, embedding_size=50, **kwargs):\n",
        "        super(RecommenderNet, self).__init__(**kwargs)\n",
        "        self.user_embedding = layers.Embedding(users_count, embedding_size, embeddings_initializer='he_normal', embeddings_regularizer=keras.regularizers.l2(1e-6))\n",
        "        self.user_bias = layers.Embedding(users_count, 1)\n",
        "        self.place_embedding = layers.Embedding(places_count, embedding_size, embeddings_initializer='he_normal', embeddings_regularizer=keras.regularizers.l2(1e-6))\n",
        "        self.place_bias = layers.Embedding(places_count, 1)\n",
        "\n",
        "    def call(self, inputs):\n",
        "        user_vector = self.user_embedding(inputs[:, 0])\n",
        "        user_bias = self.user_bias(inputs[:, 0])\n",
        "        place_vector = self.place_embedding(inputs[:, 1])\n",
        "        place_bias = self.place_bias(inputs[:, 1])\n",
        "        dot_user_place = tf.reduce_sum(user_vector * place_vector, axis=1, keepdims=True)\n",
        "        return tf.nn.sigmoid(dot_user_place + user_bias + place_bias)"
      ]
    },
    {
      "cell_type": "code",
      "execution_count": 21,
      "metadata": {
        "colab": {
          "base_uri": "https://localhost:8080/"
        },
        "id": "TTU6UQ6-Iaz5",
        "outputId": "e2d58fa2-464e-4abe-8b1c-ff7ec5f0a0c3"
      },
      "outputs": [
        {
          "name": "stdout",
          "output_type": "stream",
          "text": [
            "Epoch 1/100\n",
            "43/43 [==============================] - 5s 60ms/step - loss: 0.0770 - root_mean_squared_error: 0.2771 - val_loss: 0.0732 - val_root_mean_squared_error: 0.2701\n",
            "Epoch 2/100\n",
            "43/43 [==============================] - 2s 47ms/step - loss: 0.0710 - root_mean_squared_error: 0.2661 - val_loss: 0.0716 - val_root_mean_squared_error: 0.2672\n",
            "Epoch 3/100\n",
            "43/43 [==============================] - 2s 43ms/step - loss: 0.0656 - root_mean_squared_error: 0.2557 - val_loss: 0.0700 - val_root_mean_squared_error: 0.2641\n",
            "Epoch 4/100\n",
            "43/43 [==============================] - 2s 41ms/step - loss: 0.0603 - root_mean_squared_error: 0.2452 - val_loss: 0.0686 - val_root_mean_squared_error: 0.2614\n",
            "Epoch 5/100\n",
            "43/43 [==============================] - 2s 42ms/step - loss: 0.0554 - root_mean_squared_error: 0.2349 - val_loss: 0.0672 - val_root_mean_squared_error: 0.2588\n",
            "Epoch 6/100\n",
            "43/43 [==============================] - 2s 41ms/step - loss: 0.0506 - root_mean_squared_error: 0.2245 - val_loss: 0.0660 - val_root_mean_squared_error: 0.2564\n",
            "Epoch 7/100\n",
            "43/43 [==============================] - 2s 41ms/step - loss: 0.0462 - root_mean_squared_error: 0.2143 - val_loss: 0.0649 - val_root_mean_squared_error: 0.2542\n",
            "Epoch 8/100\n",
            "43/43 [==============================] - 2s 49ms/step - loss: 0.0419 - root_mean_squared_error: 0.2040 - val_loss: 0.0639 - val_root_mean_squared_error: 0.2522\n",
            "Epoch 9/100\n",
            "43/43 [==============================] - 2s 37ms/step - loss: 0.0378 - root_mean_squared_error: 0.1938 - val_loss: 0.0629 - val_root_mean_squared_error: 0.2503\n",
            "Epoch 10/100\n",
            "43/43 [==============================] - 2s 45ms/step - loss: 0.0340 - root_mean_squared_error: 0.1836 - val_loss: 0.0621 - val_root_mean_squared_error: 0.2486\n",
            "Epoch 11/100\n",
            "43/43 [==============================] - 2s 42ms/step - loss: 0.0304 - root_mean_squared_error: 0.1736 - val_loss: 0.0613 - val_root_mean_squared_error: 0.2470\n",
            "Epoch 12/100\n",
            "43/43 [==============================] - 1s 35ms/step - loss: 0.0271 - root_mean_squared_error: 0.1637 - val_loss: 0.0607 - val_root_mean_squared_error: 0.2457\n",
            "Epoch 13/100\n",
            "43/43 [==============================] - 1s 33ms/step - loss: 0.0241 - root_mean_squared_error: 0.1542 - val_loss: 0.0601 - val_root_mean_squared_error: 0.2445\n",
            "Epoch 14/100\n",
            "43/43 [==============================] - 2s 35ms/step - loss: 0.0214 - root_mean_squared_error: 0.1450 - val_loss: 0.0596 - val_root_mean_squared_error: 0.2434\n",
            "Epoch 15/100\n",
            "43/43 [==============================] - 1s 31ms/step - loss: 0.0189 - root_mean_squared_error: 0.1361 - val_loss: 0.0592 - val_root_mean_squared_error: 0.2425\n",
            "Epoch 16/100\n",
            "43/43 [==============================] - 2s 35ms/step - loss: 0.0166 - root_mean_squared_error: 0.1275 - val_loss: 0.0588 - val_root_mean_squared_error: 0.2417\n",
            "Epoch 17/100\n",
            "43/43 [==============================] - 2s 36ms/step - loss: 0.0147 - root_mean_squared_error: 0.1197 - val_loss: 0.0585 - val_root_mean_squared_error: 0.2410\n",
            "Epoch 18/100\n",
            "43/43 [==============================] - 1s 31ms/step - loss: 0.0130 - root_mean_squared_error: 0.1123 - val_loss: 0.0582 - val_root_mean_squared_error: 0.2405\n",
            "Epoch 19/100\n",
            "43/43 [==============================] - 1s 28ms/step - loss: 0.0116 - root_mean_squared_error: 0.1056 - val_loss: 0.0580 - val_root_mean_squared_error: 0.2399\n",
            "Epoch 20/100\n",
            "43/43 [==============================] - 1s 30ms/step - loss: 0.0103 - root_mean_squared_error: 0.0992 - val_loss: 0.0578 - val_root_mean_squared_error: 0.2395\n",
            "Epoch 21/100\n",
            "43/43 [==============================] - 1s 32ms/step - loss: 0.0092 - root_mean_squared_error: 0.0933 - val_loss: 0.0576 - val_root_mean_squared_error: 0.2390\n",
            "Epoch 22/100\n",
            "43/43 [==============================] - 1s 30ms/step - loss: 0.0082 - root_mean_squared_error: 0.0879 - val_loss: 0.0575 - val_root_mean_squared_error: 0.2387\n",
            "Epoch 23/100\n",
            "27/43 [=================>............] - ETA: 0s - loss: 0.0072 - root_mean_squared_error: 0.0819"
          ]
        },
        {
          "ename": "KeyboardInterrupt",
          "evalue": "",
          "output_type": "error",
          "traceback": [
            "\u001b[1;31m---------------------------------------------------------------------------\u001b[0m",
            "\u001b[1;31mKeyboardInterrupt\u001b[0m                         Traceback (most recent call last)",
            "Cell \u001b[1;32mIn[21], line 13\u001b[0m\n\u001b[0;32m      5\u001b[0m model\u001b[38;5;241m.\u001b[39mcompile(\n\u001b[0;32m      6\u001b[0m     loss\u001b[38;5;241m=\u001b[39m\u001b[38;5;124m'\u001b[39m\u001b[38;5;124mmse\u001b[39m\u001b[38;5;124m'\u001b[39m,\n\u001b[0;32m      7\u001b[0m     optimizer\u001b[38;5;241m=\u001b[39mkeras\u001b[38;5;241m.\u001b[39moptimizers\u001b[38;5;241m.\u001b[39mAdam(learning_rate\u001b[38;5;241m=\u001b[39m\u001b[38;5;241m0.001\u001b[39m),\n\u001b[0;32m      8\u001b[0m     metrics\u001b[38;5;241m=\u001b[39m[tf\u001b[38;5;241m.\u001b[39mkeras\u001b[38;5;241m.\u001b[39mmetrics\u001b[38;5;241m.\u001b[39mRootMeanSquaredError()]\n\u001b[0;32m      9\u001b[0m )\n\u001b[0;32m     11\u001b[0m early_stop \u001b[38;5;241m=\u001b[39m keras\u001b[38;5;241m.\u001b[39mcallbacks\u001b[38;5;241m.\u001b[39mEarlyStopping(patience\u001b[38;5;241m=\u001b[39m\u001b[38;5;241m5\u001b[39m, restore_best_weights\u001b[38;5;241m=\u001b[39m\u001b[38;5;28;01mTrue\u001b[39;00m)\n\u001b[1;32m---> 13\u001b[0m history \u001b[38;5;241m=\u001b[39m \u001b[43mmodel\u001b[49m\u001b[38;5;241;43m.\u001b[39;49m\u001b[43mfit\u001b[49m\u001b[43m(\u001b[49m\n\u001b[0;32m     14\u001b[0m \u001b[43m    \u001b[49m\u001b[43mx\u001b[49m\u001b[38;5;241;43m=\u001b[39;49m\u001b[43mx_train\u001b[49m\u001b[43m,\u001b[49m\n\u001b[0;32m     15\u001b[0m \u001b[43m    \u001b[49m\u001b[43my\u001b[49m\u001b[38;5;241;43m=\u001b[39;49m\u001b[43my_train\u001b[49m\u001b[43m,\u001b[49m\n\u001b[0;32m     16\u001b[0m \u001b[43m    \u001b[49m\u001b[43mbatch_size\u001b[49m\u001b[38;5;241;43m=\u001b[39;49m\u001b[38;5;241;43m16\u001b[39;49m\u001b[43m,\u001b[49m\n\u001b[0;32m     17\u001b[0m \u001b[43m    \u001b[49m\u001b[43mepochs\u001b[49m\u001b[38;5;241;43m=\u001b[39;49m\u001b[38;5;241;43m100\u001b[39;49m\u001b[43m,\u001b[49m\n\u001b[0;32m     18\u001b[0m \u001b[43m    \u001b[49m\u001b[43mvalidation_data\u001b[49m\u001b[38;5;241;43m=\u001b[39;49m\u001b[43m(\u001b[49m\u001b[43mx_val\u001b[49m\u001b[43m,\u001b[49m\u001b[43m \u001b[49m\u001b[43my_val\u001b[49m\u001b[43m)\u001b[49m\u001b[43m,\u001b[49m\n\u001b[0;32m     19\u001b[0m \u001b[43m    \u001b[49m\u001b[43mcallbacks\u001b[49m\u001b[38;5;241;43m=\u001b[39;49m\u001b[43m[\u001b[49m\u001b[43mearly_stop\u001b[49m\u001b[43m]\u001b[49m\u001b[43m,\u001b[49m\n\u001b[0;32m     20\u001b[0m \u001b[43m    \u001b[49m\u001b[43mverbose\u001b[49m\u001b[38;5;241;43m=\u001b[39;49m\u001b[38;5;241;43m1\u001b[39;49m\n\u001b[0;32m     21\u001b[0m \u001b[43m)\u001b[49m\n",
            "File \u001b[1;32mc:\\Users\\LENOVO\\AppData\\Local\\Programs\\Python\\Python310\\lib\\site-packages\\keras\\utils\\traceback_utils.py:65\u001b[0m, in \u001b[0;36mfilter_traceback.<locals>.error_handler\u001b[1;34m(*args, **kwargs)\u001b[0m\n\u001b[0;32m     63\u001b[0m filtered_tb \u001b[38;5;241m=\u001b[39m \u001b[38;5;28;01mNone\u001b[39;00m\n\u001b[0;32m     64\u001b[0m \u001b[38;5;28;01mtry\u001b[39;00m:\n\u001b[1;32m---> 65\u001b[0m     \u001b[38;5;28;01mreturn\u001b[39;00m fn(\u001b[38;5;241m*\u001b[39margs, \u001b[38;5;241m*\u001b[39m\u001b[38;5;241m*\u001b[39mkwargs)\n\u001b[0;32m     66\u001b[0m \u001b[38;5;28;01mexcept\u001b[39;00m \u001b[38;5;167;01mException\u001b[39;00m \u001b[38;5;28;01mas\u001b[39;00m e:\n\u001b[0;32m     67\u001b[0m     filtered_tb \u001b[38;5;241m=\u001b[39m _process_traceback_frames(e\u001b[38;5;241m.\u001b[39m__traceback__)\n",
            "File \u001b[1;32mc:\\Users\\LENOVO\\AppData\\Local\\Programs\\Python\\Python310\\lib\\site-packages\\keras\\engine\\training.py:1564\u001b[0m, in \u001b[0;36mModel.fit\u001b[1;34m(self, x, y, batch_size, epochs, verbose, callbacks, validation_split, validation_data, shuffle, class_weight, sample_weight, initial_epoch, steps_per_epoch, validation_steps, validation_batch_size, validation_freq, max_queue_size, workers, use_multiprocessing)\u001b[0m\n\u001b[0;32m   1556\u001b[0m \u001b[38;5;28;01mwith\u001b[39;00m tf\u001b[38;5;241m.\u001b[39mprofiler\u001b[38;5;241m.\u001b[39mexperimental\u001b[38;5;241m.\u001b[39mTrace(\n\u001b[0;32m   1557\u001b[0m     \u001b[38;5;124m\"\u001b[39m\u001b[38;5;124mtrain\u001b[39m\u001b[38;5;124m\"\u001b[39m,\n\u001b[0;32m   1558\u001b[0m     epoch_num\u001b[38;5;241m=\u001b[39mepoch,\n\u001b[1;32m   (...)\u001b[0m\n\u001b[0;32m   1561\u001b[0m     _r\u001b[38;5;241m=\u001b[39m\u001b[38;5;241m1\u001b[39m,\n\u001b[0;32m   1562\u001b[0m ):\n\u001b[0;32m   1563\u001b[0m     callbacks\u001b[38;5;241m.\u001b[39mon_train_batch_begin(step)\n\u001b[1;32m-> 1564\u001b[0m     tmp_logs \u001b[38;5;241m=\u001b[39m \u001b[38;5;28;43mself\u001b[39;49m\u001b[38;5;241;43m.\u001b[39;49m\u001b[43mtrain_function\u001b[49m\u001b[43m(\u001b[49m\u001b[43miterator\u001b[49m\u001b[43m)\u001b[49m\n\u001b[0;32m   1565\u001b[0m     \u001b[38;5;28;01mif\u001b[39;00m data_handler\u001b[38;5;241m.\u001b[39mshould_sync:\n\u001b[0;32m   1566\u001b[0m         context\u001b[38;5;241m.\u001b[39masync_wait()\n",
            "File \u001b[1;32mc:\\Users\\LENOVO\\AppData\\Local\\Programs\\Python\\Python310\\lib\\site-packages\\tensorflow\\python\\util\\traceback_utils.py:150\u001b[0m, in \u001b[0;36mfilter_traceback.<locals>.error_handler\u001b[1;34m(*args, **kwargs)\u001b[0m\n\u001b[0;32m    148\u001b[0m filtered_tb \u001b[38;5;241m=\u001b[39m \u001b[38;5;28;01mNone\u001b[39;00m\n\u001b[0;32m    149\u001b[0m \u001b[38;5;28;01mtry\u001b[39;00m:\n\u001b[1;32m--> 150\u001b[0m   \u001b[38;5;28;01mreturn\u001b[39;00m fn(\u001b[38;5;241m*\u001b[39margs, \u001b[38;5;241m*\u001b[39m\u001b[38;5;241m*\u001b[39mkwargs)\n\u001b[0;32m    151\u001b[0m \u001b[38;5;28;01mexcept\u001b[39;00m \u001b[38;5;167;01mException\u001b[39;00m \u001b[38;5;28;01mas\u001b[39;00m e:\n\u001b[0;32m    152\u001b[0m   filtered_tb \u001b[38;5;241m=\u001b[39m _process_traceback_frames(e\u001b[38;5;241m.\u001b[39m__traceback__)\n",
            "File \u001b[1;32mc:\\Users\\LENOVO\\AppData\\Local\\Programs\\Python\\Python310\\lib\\site-packages\\tensorflow\\python\\eager\\def_function.py:915\u001b[0m, in \u001b[0;36mFunction.__call__\u001b[1;34m(self, *args, **kwds)\u001b[0m\n\u001b[0;32m    912\u001b[0m compiler \u001b[38;5;241m=\u001b[39m \u001b[38;5;124m\"\u001b[39m\u001b[38;5;124mxla\u001b[39m\u001b[38;5;124m\"\u001b[39m \u001b[38;5;28;01mif\u001b[39;00m \u001b[38;5;28mself\u001b[39m\u001b[38;5;241m.\u001b[39m_jit_compile \u001b[38;5;28;01melse\u001b[39;00m \u001b[38;5;124m\"\u001b[39m\u001b[38;5;124mnonXla\u001b[39m\u001b[38;5;124m\"\u001b[39m\n\u001b[0;32m    914\u001b[0m \u001b[38;5;28;01mwith\u001b[39;00m OptionalXlaContext(\u001b[38;5;28mself\u001b[39m\u001b[38;5;241m.\u001b[39m_jit_compile):\n\u001b[1;32m--> 915\u001b[0m   result \u001b[38;5;241m=\u001b[39m \u001b[38;5;28mself\u001b[39m\u001b[38;5;241m.\u001b[39m_call(\u001b[38;5;241m*\u001b[39margs, \u001b[38;5;241m*\u001b[39m\u001b[38;5;241m*\u001b[39mkwds)\n\u001b[0;32m    917\u001b[0m new_tracing_count \u001b[38;5;241m=\u001b[39m \u001b[38;5;28mself\u001b[39m\u001b[38;5;241m.\u001b[39mexperimental_get_tracing_count()\n\u001b[0;32m    918\u001b[0m without_tracing \u001b[38;5;241m=\u001b[39m (tracing_count \u001b[38;5;241m==\u001b[39m new_tracing_count)\n",
            "File \u001b[1;32mc:\\Users\\LENOVO\\AppData\\Local\\Programs\\Python\\Python310\\lib\\site-packages\\tensorflow\\python\\eager\\def_function.py:947\u001b[0m, in \u001b[0;36mFunction._call\u001b[1;34m(self, *args, **kwds)\u001b[0m\n\u001b[0;32m    944\u001b[0m   \u001b[38;5;28mself\u001b[39m\u001b[38;5;241m.\u001b[39m_lock\u001b[38;5;241m.\u001b[39mrelease()\n\u001b[0;32m    945\u001b[0m   \u001b[38;5;66;03m# In this case we have created variables on the first call, so we run the\u001b[39;00m\n\u001b[0;32m    946\u001b[0m   \u001b[38;5;66;03m# defunned version which is guaranteed to never create variables.\u001b[39;00m\n\u001b[1;32m--> 947\u001b[0m   \u001b[38;5;28;01mreturn\u001b[39;00m \u001b[38;5;28mself\u001b[39m\u001b[38;5;241m.\u001b[39m_stateless_fn(\u001b[38;5;241m*\u001b[39margs, \u001b[38;5;241m*\u001b[39m\u001b[38;5;241m*\u001b[39mkwds)  \u001b[38;5;66;03m# pylint: disable=not-callable\u001b[39;00m\n\u001b[0;32m    948\u001b[0m \u001b[38;5;28;01melif\u001b[39;00m \u001b[38;5;28mself\u001b[39m\u001b[38;5;241m.\u001b[39m_stateful_fn \u001b[38;5;129;01mis\u001b[39;00m \u001b[38;5;129;01mnot\u001b[39;00m \u001b[38;5;28;01mNone\u001b[39;00m:\n\u001b[0;32m    949\u001b[0m   \u001b[38;5;66;03m# Release the lock early so that multiple threads can perform the call\u001b[39;00m\n\u001b[0;32m    950\u001b[0m   \u001b[38;5;66;03m# in parallel.\u001b[39;00m\n\u001b[0;32m    951\u001b[0m   \u001b[38;5;28mself\u001b[39m\u001b[38;5;241m.\u001b[39m_lock\u001b[38;5;241m.\u001b[39mrelease()\n",
            "File \u001b[1;32mc:\\Users\\LENOVO\\AppData\\Local\\Programs\\Python\\Python310\\lib\\site-packages\\tensorflow\\python\\eager\\function.py:2496\u001b[0m, in \u001b[0;36mFunction.__call__\u001b[1;34m(self, *args, **kwargs)\u001b[0m\n\u001b[0;32m   2493\u001b[0m \u001b[38;5;28;01mwith\u001b[39;00m \u001b[38;5;28mself\u001b[39m\u001b[38;5;241m.\u001b[39m_lock:\n\u001b[0;32m   2494\u001b[0m   (graph_function,\n\u001b[0;32m   2495\u001b[0m    filtered_flat_args) \u001b[38;5;241m=\u001b[39m \u001b[38;5;28mself\u001b[39m\u001b[38;5;241m.\u001b[39m_maybe_define_function(args, kwargs)\n\u001b[1;32m-> 2496\u001b[0m \u001b[38;5;28;01mreturn\u001b[39;00m \u001b[43mgraph_function\u001b[49m\u001b[38;5;241;43m.\u001b[39;49m\u001b[43m_call_flat\u001b[49m\u001b[43m(\u001b[49m\n\u001b[0;32m   2497\u001b[0m \u001b[43m    \u001b[49m\u001b[43mfiltered_flat_args\u001b[49m\u001b[43m,\u001b[49m\u001b[43m \u001b[49m\u001b[43mcaptured_inputs\u001b[49m\u001b[38;5;241;43m=\u001b[39;49m\u001b[43mgraph_function\u001b[49m\u001b[38;5;241;43m.\u001b[39;49m\u001b[43mcaptured_inputs\u001b[49m\u001b[43m)\u001b[49m\n",
            "File \u001b[1;32mc:\\Users\\LENOVO\\AppData\\Local\\Programs\\Python\\Python310\\lib\\site-packages\\tensorflow\\python\\eager\\function.py:1862\u001b[0m, in \u001b[0;36mConcreteFunction._call_flat\u001b[1;34m(self, args, captured_inputs, cancellation_manager)\u001b[0m\n\u001b[0;32m   1858\u001b[0m possible_gradient_type \u001b[38;5;241m=\u001b[39m gradients_util\u001b[38;5;241m.\u001b[39mPossibleTapeGradientTypes(args)\n\u001b[0;32m   1859\u001b[0m \u001b[38;5;28;01mif\u001b[39;00m (possible_gradient_type \u001b[38;5;241m==\u001b[39m gradients_util\u001b[38;5;241m.\u001b[39mPOSSIBLE_GRADIENT_TYPES_NONE\n\u001b[0;32m   1860\u001b[0m     \u001b[38;5;129;01mand\u001b[39;00m executing_eagerly):\n\u001b[0;32m   1861\u001b[0m   \u001b[38;5;66;03m# No tape is watching; skip to running the function.\u001b[39;00m\n\u001b[1;32m-> 1862\u001b[0m   \u001b[38;5;28;01mreturn\u001b[39;00m \u001b[38;5;28mself\u001b[39m\u001b[38;5;241m.\u001b[39m_build_call_outputs(\u001b[38;5;28;43mself\u001b[39;49m\u001b[38;5;241;43m.\u001b[39;49m\u001b[43m_inference_function\u001b[49m\u001b[38;5;241;43m.\u001b[39;49m\u001b[43mcall\u001b[49m\u001b[43m(\u001b[49m\n\u001b[0;32m   1863\u001b[0m \u001b[43m      \u001b[49m\u001b[43mctx\u001b[49m\u001b[43m,\u001b[49m\u001b[43m \u001b[49m\u001b[43margs\u001b[49m\u001b[43m,\u001b[49m\u001b[43m \u001b[49m\u001b[43mcancellation_manager\u001b[49m\u001b[38;5;241;43m=\u001b[39;49m\u001b[43mcancellation_manager\u001b[49m\u001b[43m)\u001b[49m)\n\u001b[0;32m   1864\u001b[0m forward_backward \u001b[38;5;241m=\u001b[39m \u001b[38;5;28mself\u001b[39m\u001b[38;5;241m.\u001b[39m_select_forward_and_backward_functions(\n\u001b[0;32m   1865\u001b[0m     args,\n\u001b[0;32m   1866\u001b[0m     possible_gradient_type,\n\u001b[0;32m   1867\u001b[0m     executing_eagerly)\n\u001b[0;32m   1868\u001b[0m forward_function, args_with_tangents \u001b[38;5;241m=\u001b[39m forward_backward\u001b[38;5;241m.\u001b[39mforward()\n",
            "File \u001b[1;32mc:\\Users\\LENOVO\\AppData\\Local\\Programs\\Python\\Python310\\lib\\site-packages\\tensorflow\\python\\eager\\function.py:499\u001b[0m, in \u001b[0;36m_EagerDefinedFunction.call\u001b[1;34m(self, ctx, args, cancellation_manager)\u001b[0m\n\u001b[0;32m    497\u001b[0m \u001b[38;5;28;01mwith\u001b[39;00m _InterpolateFunctionError(\u001b[38;5;28mself\u001b[39m):\n\u001b[0;32m    498\u001b[0m   \u001b[38;5;28;01mif\u001b[39;00m cancellation_manager \u001b[38;5;129;01mis\u001b[39;00m \u001b[38;5;28;01mNone\u001b[39;00m:\n\u001b[1;32m--> 499\u001b[0m     outputs \u001b[38;5;241m=\u001b[39m \u001b[43mexecute\u001b[49m\u001b[38;5;241;43m.\u001b[39;49m\u001b[43mexecute\u001b[49m\u001b[43m(\u001b[49m\n\u001b[0;32m    500\u001b[0m \u001b[43m        \u001b[49m\u001b[38;5;28;43mstr\u001b[39;49m\u001b[43m(\u001b[49m\u001b[38;5;28;43mself\u001b[39;49m\u001b[38;5;241;43m.\u001b[39;49m\u001b[43msignature\u001b[49m\u001b[38;5;241;43m.\u001b[39;49m\u001b[43mname\u001b[49m\u001b[43m)\u001b[49m\u001b[43m,\u001b[49m\n\u001b[0;32m    501\u001b[0m \u001b[43m        \u001b[49m\u001b[43mnum_outputs\u001b[49m\u001b[38;5;241;43m=\u001b[39;49m\u001b[38;5;28;43mself\u001b[39;49m\u001b[38;5;241;43m.\u001b[39;49m\u001b[43m_num_outputs\u001b[49m\u001b[43m,\u001b[49m\n\u001b[0;32m    502\u001b[0m \u001b[43m        \u001b[49m\u001b[43minputs\u001b[49m\u001b[38;5;241;43m=\u001b[39;49m\u001b[43margs\u001b[49m\u001b[43m,\u001b[49m\n\u001b[0;32m    503\u001b[0m \u001b[43m        \u001b[49m\u001b[43mattrs\u001b[49m\u001b[38;5;241;43m=\u001b[39;49m\u001b[43mattrs\u001b[49m\u001b[43m,\u001b[49m\n\u001b[0;32m    504\u001b[0m \u001b[43m        \u001b[49m\u001b[43mctx\u001b[49m\u001b[38;5;241;43m=\u001b[39;49m\u001b[43mctx\u001b[49m\u001b[43m)\u001b[49m\n\u001b[0;32m    505\u001b[0m   \u001b[38;5;28;01melse\u001b[39;00m:\n\u001b[0;32m    506\u001b[0m     outputs \u001b[38;5;241m=\u001b[39m execute\u001b[38;5;241m.\u001b[39mexecute_with_cancellation(\n\u001b[0;32m    507\u001b[0m         \u001b[38;5;28mstr\u001b[39m(\u001b[38;5;28mself\u001b[39m\u001b[38;5;241m.\u001b[39msignature\u001b[38;5;241m.\u001b[39mname),\n\u001b[0;32m    508\u001b[0m         num_outputs\u001b[38;5;241m=\u001b[39m\u001b[38;5;28mself\u001b[39m\u001b[38;5;241m.\u001b[39m_num_outputs,\n\u001b[1;32m   (...)\u001b[0m\n\u001b[0;32m    511\u001b[0m         ctx\u001b[38;5;241m=\u001b[39mctx,\n\u001b[0;32m    512\u001b[0m         cancellation_manager\u001b[38;5;241m=\u001b[39mcancellation_manager)\n",
            "File \u001b[1;32mc:\\Users\\LENOVO\\AppData\\Local\\Programs\\Python\\Python310\\lib\\site-packages\\tensorflow\\python\\eager\\execute.py:54\u001b[0m, in \u001b[0;36mquick_execute\u001b[1;34m(op_name, num_outputs, inputs, attrs, ctx, name)\u001b[0m\n\u001b[0;32m     52\u001b[0m \u001b[38;5;28;01mtry\u001b[39;00m:\n\u001b[0;32m     53\u001b[0m   ctx\u001b[38;5;241m.\u001b[39mensure_initialized()\n\u001b[1;32m---> 54\u001b[0m   tensors \u001b[38;5;241m=\u001b[39m \u001b[43mpywrap_tfe\u001b[49m\u001b[38;5;241;43m.\u001b[39;49m\u001b[43mTFE_Py_Execute\u001b[49m\u001b[43m(\u001b[49m\u001b[43mctx\u001b[49m\u001b[38;5;241;43m.\u001b[39;49m\u001b[43m_handle\u001b[49m\u001b[43m,\u001b[49m\u001b[43m \u001b[49m\u001b[43mdevice_name\u001b[49m\u001b[43m,\u001b[49m\u001b[43m \u001b[49m\u001b[43mop_name\u001b[49m\u001b[43m,\u001b[49m\n\u001b[0;32m     55\u001b[0m \u001b[43m                                      \u001b[49m\u001b[43minputs\u001b[49m\u001b[43m,\u001b[49m\u001b[43m \u001b[49m\u001b[43mattrs\u001b[49m\u001b[43m,\u001b[49m\u001b[43m \u001b[49m\u001b[43mnum_outputs\u001b[49m\u001b[43m)\u001b[49m\n\u001b[0;32m     56\u001b[0m \u001b[38;5;28;01mexcept\u001b[39;00m core\u001b[38;5;241m.\u001b[39m_NotOkStatusException \u001b[38;5;28;01mas\u001b[39;00m e:\n\u001b[0;32m     57\u001b[0m   \u001b[38;5;28;01mif\u001b[39;00m name \u001b[38;5;129;01mis\u001b[39;00m \u001b[38;5;129;01mnot\u001b[39;00m \u001b[38;5;28;01mNone\u001b[39;00m:\n",
            "\u001b[1;31mKeyboardInterrupt\u001b[0m: "
          ]
        }
      ],
      "source": [
        "users_count = ratings['user'].nunique()\n",
        "places_count = ratings['place'].nunique()\n",
        "\n",
        "model = RecommenderNet(users_count, places_count)\n",
        "model.compile(\n",
        "    loss='mse',\n",
        "    optimizer=keras.optimizers.Adam(learning_rate=0.001),\n",
        "    metrics=[tf.keras.metrics.RootMeanSquaredError()]\n",
        ")\n",
        "\n",
        "early_stop = keras.callbacks.EarlyStopping(patience=5, restore_best_weights=True)\n",
        "\n",
        "history = model.fit(\n",
        "    x=x_train,\n",
        "    y=y_train,\n",
        "    batch_size=16,\n",
        "    epochs=100,\n",
        "    validation_data=(x_val, y_val),\n",
        "    callbacks=[early_stop],\n",
        "    verbose=1\n",
        ")"
      ]
    },
    {
      "cell_type": "code",
      "execution_count": null,
      "metadata": {
        "colab": {
          "base_uri": "https://localhost:8080/"
        },
        "id": "s-qMAnLgJHdf",
        "outputId": "06bcdfc3-cbed-4448-ced3-309e1865a84d"
      },
      "outputs": [
        {
          "name": "stdout",
          "output_type": "stream",
          "text": [
            "Training RMSE: 0.0238\n",
            "Validation RMSE: 0.2353\n"
          ]
        }
      ],
      "source": [
        "train_loss, train_rmse = model.evaluate(x_train, y_train, verbose=0)\n",
        "print(f\"Training RMSE: {train_rmse:.4f}\")\n",
        "\n",
        "val_loss, val_rmse = model.evaluate(x_val, y_val, verbose=0)\n",
        "print(f\"Validation RMSE: {val_rmse:.4f}\")"
      ]
    },
    {
      "cell_type": "code",
      "execution_count": null,
      "metadata": {
        "colab": {
          "base_uri": "https://localhost:8080/",
          "height": 472
        },
        "id": "QbjjN1xuJWG5",
        "outputId": "d3daad73-9689-4188-ab11-1cb482afb37a"
      },
      "outputs": [
        {
          "data": {
            "image/png": "[encoded data removed]",
            "text/plain": [
              "<Figure size 640x480 with 1 Axes>"
            ]
          },
          "metadata": {},
          "output_type": "display_data"
        }
      ],
      "source": [
        "import matplotlib.pyplot as plt\n",
        "\n",
        "plt.plot(history.history['root_mean_squared_error'], label='Train RMSE')\n",
        "plt.plot(history.history['val_root_mean_squared_error'], label='Val RMSE')\n",
        "plt.xlabel('Epoch')\n",
        "plt.ylabel('RMSE')\n",
        "plt.legend()\n",
        "plt.title('RMSE per Epoch')\n",
        "plt.grid(True)\n",
        "plt.show()"
      ]
    },
    {
      "cell_type": "code",
      "execution_count": null,
      "metadata": {
        "id": "7tP0W0782nAk"
      },
      "outputs": [],
      "source": [
        "def recommend_for_user(user_id_raw, place_df, model, user_encoder, place_encoder, k=5):\n",
        "    if user_id_raw not in user_encoder.classes_:\n",
        "        raise ValueError(f\"User ID '{user_id_raw}' tidak ditemukan dalam encoder.\")\n",
        "\n",
        "    user_id = user_encoder.transform([user_id_raw])[0]\n",
        "\n",
        "    place_df = place_df.reset_index(drop=True)\n",
        "\n",
        "    if not set(place_df['place_id']).issubset(set(place_encoder.classes_)):\n",
        "        raise ValueError(\"Terdapat place_id yang belum dikenal di encoder.\")\n",
        "\n",
        "    all_place_ids = place_encoder.transform(place_df['place_id'])\n",
        "\n",
        "    user_array = tf.constant([[user_id, pid] for pid in all_place_ids])\n",
        "\n",
        "    preds = model.predict(user_array, verbose=0).flatten()\n",
        "\n",
        "    top_k_idx = preds.argsort()[-k:][::-1]\n",
        "\n",
        "    top_places = place_df.iloc[top_k_idx].copy()\n",
        "    top_places['predicted_rating'] = preds[top_k_idx]\n",
        "\n",
        "    return top_places[['place_id', 'place_name', 'city', 'category', 'place_description', 'predicted_rating']]"
      ]
    },
    {
      "cell_type": "code",
      "execution_count": null,
      "metadata": {
        "colab": {
          "base_uri": "https://localhost:8080/"
        },
        "id": "59Y5r8vN24Om",
        "outputId": "351ca045-ed90-474b-b788-032c422cdf7b"
      },
      "outputs": [
        {
          "name": "stdout",
          "output_type": "stream",
          "text": [
            "Rekomendasi untuk user: 5\n",
            "     place_id                             place_name        city  \\\n",
            "107       109                               Goa Rong    Semarang   \n",
            "147       149                            Lava Bantal  Yogyakarta   \n",
            "11         13                  Curug Tilu Leuwi Opat     Bandung   \n",
            "56         58                           Pantai Ancol     Jakarta   \n",
            "171       173  Puncak Gunung Api Purba - Nglanggeran  Yogyakarta   \n",
            "\n",
            "                 category                                  place_description  \\\n",
            "107     Budaya,Cagar Alam  Semarang memiliki wisata di ketinggian bernama...   \n",
            "147     Budaya,Cagar Alam  Wilayah DIY menawarkan sejumlah potensi wisata...   \n",
            "11             Cagar Alam  Curug Tilu Leuwi Opat adalah air terjun yang t...   \n",
            "56   Bahari,Taman Hiburan  Pantai Ancol merupakan kawasan wisata yang mer...   \n",
            "171            Cagar Alam  Gunung Nglanggeran adalah sebuah gunung di Dae...   \n",
            "\n",
            "     predicted_rating  \n",
            "107          0.799384  \n",
            "147          0.678720  \n",
            "11           0.664003  \n",
            "56           0.657235  \n",
            "171          0.647847  \n"
          ]
        }
      ],
      "source": [
        "places_filtered = places[places['place_id'].isin(place_encoder.classes_)]\n",
        "user_id_test =5\n",
        "\n",
        "try:\n",
        "    recommendations = recommend_for_user(\n",
        "        user_id_raw=user_id_test,\n",
        "        place_df=places_filtered,\n",
        "        model=model,\n",
        "        user_encoder=user_encoder,\n",
        "        place_encoder=place_encoder,\n",
        "        k=5\n",
        "    )\n",
        "    print(\"Rekomendasi untuk user:\", user_id_test)\n",
        "    print(recommendations)\n",
        "except ValueError as e:\n",
        "    print(\"Error:\", e)"
      ]
    },
    {
      "cell_type": "code",
      "execution_count": null,
      "metadata": {},
      "outputs": [
        {
          "data": {
            "text/plain": [
              "['place_encoder.pkl']"
            ]
          },
          "execution_count": 77,
          "metadata": {},
          "output_type": "execute_result"
        }
      ],
      "source": [
        "import joblib\n",
        "\n",
        "joblib.dump(user_encoder, \"user_encoder.pkl\")\n",
        "joblib.dump(place_encoder, \"place_encoder.pkl\")"
      ]
    },
    {
      "cell_type": "code",
      "execution_count": null,
      "metadata": {},
      "outputs": [
        {
          "ename": "NotImplementedError",
          "evalue": "Saving the model to HDF5 format requires the model to be a Functional model or a Sequential model. It does not work for subclassed models, because such models are defined via the body of a Python method, which isn't safely serializable. Consider saving to the Tensorflow SavedModel format (by setting save_format=\"tf\") or using `save_weights`.",
          "output_type": "error",
          "traceback": [
            "\u001b[1;31m---------------------------------------------------------------------------\u001b[0m",
            "\u001b[1;31mNotImplementedError\u001b[0m                       Traceback (most recent call last)",
            "Cell \u001b[1;32mIn[79], line 1\u001b[0m\n\u001b[1;32m----> 1\u001b[0m \u001b[43mmodel\u001b[49m\u001b[38;5;241;43m.\u001b[39;49m\u001b[43msave\u001b[49m\u001b[43m(\u001b[49m\u001b[38;5;124;43m\"\u001b[39;49m\u001b[38;5;124;43mrecommender_model.h5\u001b[39;49m\u001b[38;5;124;43m\"\u001b[39;49m\u001b[43m)\u001b[49m\n",
            "File \u001b[1;32mc:\\Users\\LENOVO\\AppData\\Local\\Programs\\Python\\Python310\\lib\\site-packages\\keras\\utils\\traceback_utils.py:70\u001b[0m, in \u001b[0;36mfilter_traceback.<locals>.error_handler\u001b[1;34m(*args, **kwargs)\u001b[0m\n\u001b[0;32m     67\u001b[0m     filtered_tb \u001b[38;5;241m=\u001b[39m _process_traceback_frames(e\u001b[38;5;241m.\u001b[39m__traceback__)\n\u001b[0;32m     68\u001b[0m     \u001b[38;5;66;03m# To get the full stack trace, call:\u001b[39;00m\n\u001b[0;32m     69\u001b[0m     \u001b[38;5;66;03m# `tf.debugging.disable_traceback_filtering()`\u001b[39;00m\n\u001b[1;32m---> 70\u001b[0m     \u001b[38;5;28;01mraise\u001b[39;00m e\u001b[38;5;241m.\u001b[39mwith_traceback(filtered_tb) \u001b[38;5;28;01mfrom\u001b[39;00m\u001b[38;5;250m \u001b[39m\u001b[38;5;28;01mNone\u001b[39;00m\n\u001b[0;32m     71\u001b[0m \u001b[38;5;28;01mfinally\u001b[39;00m:\n\u001b[0;32m     72\u001b[0m     \u001b[38;5;28;01mdel\u001b[39;00m filtered_tb\n",
            "File \u001b[1;32mc:\\Users\\LENOVO\\AppData\\Local\\Programs\\Python\\Python310\\lib\\site-packages\\keras\\saving\\save.py:153\u001b[0m, in \u001b[0;36msave_model\u001b[1;34m(model, filepath, overwrite, include_optimizer, save_format, signatures, options, save_traces)\u001b[0m\n\u001b[0;32m    144\u001b[0m \u001b[38;5;28;01mif\u001b[39;00m (\n\u001b[0;32m    145\u001b[0m     save_format \u001b[38;5;241m==\u001b[39m \u001b[38;5;124m\"\u001b[39m\u001b[38;5;124mh5\u001b[39m\u001b[38;5;124m\"\u001b[39m\n\u001b[0;32m    146\u001b[0m     \u001b[38;5;129;01mor\u001b[39;00m (h5py \u001b[38;5;129;01mis\u001b[39;00m \u001b[38;5;129;01mnot\u001b[39;00m \u001b[38;5;28;01mNone\u001b[39;00m \u001b[38;5;129;01mand\u001b[39;00m \u001b[38;5;28misinstance\u001b[39m(filepath, h5py\u001b[38;5;241m.\u001b[39mFile))\n\u001b[0;32m    147\u001b[0m     \u001b[38;5;129;01mor\u001b[39;00m saving_utils\u001b[38;5;241m.\u001b[39mis_hdf5_filepath(filepath)\n\u001b[0;32m    148\u001b[0m ):\n\u001b[0;32m    149\u001b[0m     \u001b[38;5;66;03m# TODO(b/130258301): add utility method for detecting model type.\u001b[39;00m\n\u001b[0;32m    150\u001b[0m     \u001b[38;5;28;01mif\u001b[39;00m \u001b[38;5;129;01mnot\u001b[39;00m model\u001b[38;5;241m.\u001b[39m_is_graph_network \u001b[38;5;129;01mand\u001b[39;00m \u001b[38;5;129;01mnot\u001b[39;00m \u001b[38;5;28misinstance\u001b[39m(\n\u001b[0;32m    151\u001b[0m         model, sequential\u001b[38;5;241m.\u001b[39mSequential\n\u001b[0;32m    152\u001b[0m     ):\n\u001b[1;32m--> 153\u001b[0m         \u001b[38;5;28;01mraise\u001b[39;00m \u001b[38;5;167;01mNotImplementedError\u001b[39;00m(\n\u001b[0;32m    154\u001b[0m             \u001b[38;5;124m\"\u001b[39m\u001b[38;5;124mSaving the model to HDF5 format requires the model to be a \u001b[39m\u001b[38;5;124m\"\u001b[39m\n\u001b[0;32m    155\u001b[0m             \u001b[38;5;124m\"\u001b[39m\u001b[38;5;124mFunctional model or a Sequential model. It does not work for \u001b[39m\u001b[38;5;124m\"\u001b[39m\n\u001b[0;32m    156\u001b[0m             \u001b[38;5;124m\"\u001b[39m\u001b[38;5;124msubclassed models, because such models are defined via the \u001b[39m\u001b[38;5;124m\"\u001b[39m\n\u001b[0;32m    157\u001b[0m             \u001b[38;5;124m\"\u001b[39m\u001b[38;5;124mbody of a Python method, which isn\u001b[39m\u001b[38;5;124m'\u001b[39m\u001b[38;5;124mt safely serializable. \u001b[39m\u001b[38;5;124m\"\u001b[39m\n\u001b[0;32m    158\u001b[0m             \u001b[38;5;124m\"\u001b[39m\u001b[38;5;124mConsider saving to the Tensorflow SavedModel format (by \u001b[39m\u001b[38;5;124m\"\u001b[39m\n\u001b[0;32m    159\u001b[0m             \u001b[38;5;124m'\u001b[39m\u001b[38;5;124msetting save_format=\u001b[39m\u001b[38;5;124m\"\u001b[39m\u001b[38;5;124mtf\u001b[39m\u001b[38;5;124m\"\u001b[39m\u001b[38;5;124m) or using `save_weights`.\u001b[39m\u001b[38;5;124m'\u001b[39m\n\u001b[0;32m    160\u001b[0m         )\n\u001b[0;32m    161\u001b[0m     hdf5_format\u001b[38;5;241m.\u001b[39msave_model_to_hdf5(\n\u001b[0;32m    162\u001b[0m         model, filepath, overwrite, include_optimizer\n\u001b[0;32m    163\u001b[0m     )\n\u001b[0;32m    164\u001b[0m \u001b[38;5;28;01melse\u001b[39;00m:\n",
            "\u001b[1;31mNotImplementedError\u001b[0m: Saving the model to HDF5 format requires the model to be a Functional model or a Sequential model. It does not work for subclassed models, because such models are defined via the body of a Python method, which isn't safely serializable. Consider saving to the Tensorflow SavedModel format (by setting save_format=\"tf\") or using `save_weights`."
          ]
        }
      ],
      "source": [
        "model.save(\"recommender_model\")"
      ]
    },
    {
      "cell_type": "markdown",
      "metadata": {
        "id": "oE9NIIez0Amt"
      },
      "source": [
        "#Evaluation"
      ]
    },
    {
      "cell_type": "markdown",
      "metadata": {
        "id": "ygfEgskl0Fnu"
      },
      "source": [
        "###Evaluasi Model dengan Content Based Filtering"
      ]
    },
    {
      "cell_type": "code",
      "execution_count": null,
      "metadata": {
        "id": "-5CelDFp2YzI"
      },
      "outputs": [],
      "source": [
        "import numpy as np\n",
        "from sklearn.metrics import precision_recall_fscore_support\n",
        "\n",
        "# Menentukan threshold similarity\n",
        "threshold = 0.5\n",
        "\n",
        "# Membuat ground truth matrix berdasarkan cosine similarity\n",
        "ground_truth = np.where(cosine_sim >= threshold, 1, 0)\n",
        "\n",
        "# Menampilkan sample ground truth matrix\n",
        "ground_truth_df = pd.DataFrame(\n",
        "    ground_truth,\n",
        "    index=places['place_name'],\n",
        "    columns=places['place_name']\n",
        ").sample(5, axis=1).sample(10, axis=0)\n"
      ]
    },
    {
      "cell_type": "code",
      "execution_count": null,
      "metadata": {
        "colab": {
          "base_uri": "https://localhost:8080/",
          "height": 394
        },
        "id": "NgzZnRJC2r80",
        "outputId": "18671b7c-b342-4d2e-d649-7f030b05d030"
      },
      "outputs": [
        {
          "data": {
            "text/html": [
              "<div>\n",
              "<style scoped>\n",
              "    .dataframe tbody tr th:only-of-type {\n",
              "        vertical-align: middle;\n",
              "    }\n",
              "\n",
              "    .dataframe tbody tr th {\n",
              "        vertical-align: top;\n",
              "    }\n",
              "\n",
              "    .dataframe thead th {\n",
              "        text-align: right;\n",
              "    }\n",
              "</style>\n",
              "<table border=\"1\" class=\"dataframe\">\n",
              "  <thead>\n",
              "    <tr style=\"text-align: right;\">\n",
              "      <th>place_name</th>\n",
              "      <th>Taman Hutan Raya Sultan Syarif Hasyim</th>\n",
              "      <th>Desa Wisata Kinahrejo</th>\n",
              "      <th>Taman Wisata Alam Kubu Raya</th>\n",
              "      <th>Taman Nasional Meru Betiri</th>\n",
              "      <th>Taman Hutan Raya Bung Hatta</th>\n",
              "    </tr>\n",
              "    <tr>\n",
              "      <th>place_name</th>\n",
              "      <th></th>\n",
              "      <th></th>\n",
              "      <th></th>\n",
              "      <th></th>\n",
              "      <th></th>\n",
              "    </tr>\n",
              "  </thead>\n",
              "  <tbody>\n",
              "    <tr>\n",
              "      <th>Taman Nasional Bali Barat</th>\n",
              "      <td>0</td>\n",
              "      <td>0</td>\n",
              "      <td>0</td>\n",
              "      <td>0</td>\n",
              "      <td>0</td>\n",
              "    </tr>\n",
              "    <tr>\n",
              "      <th>Taman Nasional Kutai</th>\n",
              "      <td>0</td>\n",
              "      <td>0</td>\n",
              "      <td>0</td>\n",
              "      <td>0</td>\n",
              "      <td>0</td>\n",
              "    </tr>\n",
              "    <tr>\n",
              "      <th>Seribu Batu Songgo Langit</th>\n",
              "      <td>0</td>\n",
              "      <td>0</td>\n",
              "      <td>0</td>\n",
              "      <td>0</td>\n",
              "      <td>0</td>\n",
              "    </tr>\n",
              "    <tr>\n",
              "      <th>Taman Wisata Tirta Alam</th>\n",
              "      <td>0</td>\n",
              "      <td>0</td>\n",
              "      <td>0</td>\n",
              "      <td>0</td>\n",
              "      <td>0</td>\n",
              "    </tr>\n",
              "    <tr>\n",
              "      <th>Desa Wisata Sungai Code Jogja Kota</th>\n",
              "      <td>0</td>\n",
              "      <td>0</td>\n",
              "      <td>0</td>\n",
              "      <td>0</td>\n",
              "      <td>0</td>\n",
              "    </tr>\n",
              "    <tr>\n",
              "      <th>Taman Hutan Raya R. Soerjo</th>\n",
              "      <td>0</td>\n",
              "      <td>0</td>\n",
              "      <td>0</td>\n",
              "      <td>0</td>\n",
              "      <td>0</td>\n",
              "    </tr>\n",
              "    <tr>\n",
              "      <th>Taman Buru Gunung Masigit Kareumbi</th>\n",
              "      <td>0</td>\n",
              "      <td>0</td>\n",
              "      <td>0</td>\n",
              "      <td>0</td>\n",
              "      <td>0</td>\n",
              "    </tr>\n",
              "    <tr>\n",
              "      <th>Desa Wisata Kelor</th>\n",
              "      <td>0</td>\n",
              "      <td>0</td>\n",
              "      <td>0</td>\n",
              "      <td>0</td>\n",
              "      <td>0</td>\n",
              "    </tr>\n",
              "    <tr>\n",
              "      <th>Sindu Kusuma Edupark (SKE)</th>\n",
              "      <td>0</td>\n",
              "      <td>0</td>\n",
              "      <td>0</td>\n",
              "      <td>0</td>\n",
              "      <td>0</td>\n",
              "    </tr>\n",
              "    <tr>\n",
              "      <th>Desa Wisata Pulesari</th>\n",
              "      <td>0</td>\n",
              "      <td>0</td>\n",
              "      <td>0</td>\n",
              "      <td>0</td>\n",
              "      <td>0</td>\n",
              "    </tr>\n",
              "  </tbody>\n",
              "</table>\n",
              "</div>"
            ],
            "text/plain": [
              "place_name                          Taman Hutan Raya Sultan Syarif Hasyim  \\\n",
              "place_name                                                                  \n",
              "Taman Nasional Bali Barat                                               0   \n",
              "Taman Nasional Kutai                                                    0   \n",
              "Seribu Batu Songgo Langit                                               0   \n",
              "Taman Wisata Tirta Alam                                                 0   \n",
              "Desa Wisata Sungai Code Jogja Kota                                      0   \n",
              "Taman Hutan Raya R. Soerjo                                              0   \n",
              "Taman Buru Gunung Masigit Kareumbi                                      0   \n",
              "Desa Wisata Kelor                                                       0   \n",
              "Sindu Kusuma Edupark (SKE)                                              0   \n",
              "Desa Wisata Pulesari                                                    0   \n",
              "\n",
              "place_name                          Desa Wisata Kinahrejo  \\\n",
              "place_name                                                  \n",
              "Taman Nasional Bali Barat                               0   \n",
              "Taman Nasional Kutai                                    0   \n",
              "Seribu Batu Songgo Langit                               0   \n",
              "Taman Wisata Tirta Alam                                 0   \n",
              "Desa Wisata Sungai Code Jogja Kota                      0   \n",
              "Taman Hutan Raya R. Soerjo                              0   \n",
              "Taman Buru Gunung Masigit Kareumbi                      0   \n",
              "Desa Wisata Kelor                                       0   \n",
              "Sindu Kusuma Edupark (SKE)                              0   \n",
              "Desa Wisata Pulesari                                    0   \n",
              "\n",
              "place_name                          Taman Wisata Alam Kubu Raya  \\\n",
              "place_name                                                        \n",
              "Taman Nasional Bali Barat                                     0   \n",
              "Taman Nasional Kutai                                          0   \n",
              "Seribu Batu Songgo Langit                                     0   \n",
              "Taman Wisata Tirta Alam                                       0   \n",
              "Desa Wisata Sungai Code Jogja Kota                            0   \n",
              "Taman Hutan Raya R. Soerjo                                    0   \n",
              "Taman Buru Gunung Masigit Kareumbi                            0   \n",
              "Desa Wisata Kelor                                             0   \n",
              "Sindu Kusuma Edupark (SKE)                                    0   \n",
              "Desa Wisata Pulesari                                          0   \n",
              "\n",
              "place_name                          Taman Nasional Meru Betiri  \\\n",
              "place_name                                                       \n",
              "Taman Nasional Bali Barat                                    0   \n",
              "Taman Nasional Kutai                                         0   \n",
              "Seribu Batu Songgo Langit                                    0   \n",
              "Taman Wisata Tirta Alam                                      0   \n",
              "Desa Wisata Sungai Code Jogja Kota                           0   \n",
              "Taman Hutan Raya R. Soerjo                                   0   \n",
              "Taman Buru Gunung Masigit Kareumbi                           0   \n",
              "Desa Wisata Kelor                                            0   \n",
              "Sindu Kusuma Edupark (SKE)                                   0   \n",
              "Desa Wisata Pulesari                                         0   \n",
              "\n",
              "place_name                          Taman Hutan Raya Bung Hatta  \n",
              "place_name                                                       \n",
              "Taman Nasional Bali Barat                                     0  \n",
              "Taman Nasional Kutai                                          0  \n",
              "Seribu Batu Songgo Langit                                     0  \n",
              "Taman Wisata Tirta Alam                                       0  \n",
              "Desa Wisata Sungai Code Jogja Kota                            0  \n",
              "Taman Hutan Raya R. Soerjo                                    0  \n",
              "Taman Buru Gunung Masigit Kareumbi                            0  \n",
              "Desa Wisata Kelor                                             0  \n",
              "Sindu Kusuma Edupark (SKE)                                    0  \n",
              "Desa Wisata Pulesari                                          0  "
            ]
          },
          "execution_count": 64,
          "metadata": {},
          "output_type": "execute_result"
        }
      ],
      "source": [
        "ground_truth_df"
      ]
    },
    {
      "cell_type": "code",
      "execution_count": null,
      "metadata": {
        "colab": {
          "base_uri": "https://localhost:8080/"
        },
        "id": "ZP2NCH8V26YS",
        "outputId": "47eda032-bfeb-4a04-e1ff-4d96a2cfe909"
      },
      "outputs": [
        {
          "name": "stdout",
          "output_type": "stream",
          "text": [
            "\n",
            "Hasil Evaluasi Content-Based Filtering:\n",
            "Precision: 1.00\n",
            "Recall: 1.00\n",
            "F1-score: 1.00\n"
          ]
        }
      ],
      "source": [
        "# Evaluasi dengan metrik\n",
        "# Flatten matrix untuk perhitungan metrik\n",
        "cosine_sim_flat = cosine_sim.flatten()\n",
        "ground_truth_flat = ground_truth.flatten()\n",
        "\n",
        "# Membuat prediksi biner\n",
        "predictions = (cosine_sim_flat >= threshold).astype(int)\n",
        "\n",
        "# Menghitung metrik evaluasi\n",
        "precision, recall, f1, _ = precision_recall_fscore_support(\n",
        "    ground_truth_flat,\n",
        "    predictions,\n",
        "    average='binary',\n",
        "    zero_division=1\n",
        ")\n",
        "\n",
        "print(\"\\nHasil Evaluasi Content-Based Filtering:\")\n",
        "print(f\"Precision: {precision:.2f}\")\n",
        "print(f\"Recall: {recall:.2f}\")\n",
        "print(f\"F1-score: {f1:.2f}\")\n"
      ]
    },
    {
      "cell_type": "markdown",
      "metadata": {
        "id": "8EMgRG4I3b0B"
      },
      "source": [
        "Berdasarkan hasil evaluasi, diperoleh nilai precision, recall, dan F1 Score masing-masing sebesar 1.0. Nilai precision sebesar 1.0 menunjukkan bahwa seluruh prediksi positif yang dihasilkan oleh model adalah benar, sehingga tidak terdapat false positive dalam rekomendasi yang diberikan. Nilai recall yang juga mencapai 1.0 menandakan bahwa model berhasil mengidentifikasi seluruh item yang relevan dengan sangat baik. Selain itu, nilai F1 Score yang juga sebesar 1.0 menunjukkan adanya keseimbangan yang sangat baik antara precision dan recall, sehingga model mampu memberikan hasil rekomendasi yang optimal baik dari sisi ketepatan maupun kelengkapan. Secara keseluruhan, hasil evaluasi ini menunjukkan bahwa model content-based filtering yang dibangun bekerja dengan sangat baik dalam memberikan rekomendasi tempat wisata yang relevan kepada pengguna."
      ]
    },
    {
      "cell_type": "code",
      "execution_count": null,
      "metadata": {
        "colab": {
          "base_uri": "https://localhost:8080/",
          "height": 339
        },
        "id": "8FCwxi9a5ZsB",
        "outputId": "cb5956b0-e3e8-4b97-8459-8a9b12e1cfcb"
      },
      "outputs": [
        {
          "name": "stdout",
          "output_type": "stream",
          "text": [
            "Detail tempat wisata yang dicari:\n"
          ]
        },
        {
          "data": {
            "text/html": [
              "<div>\n",
              "<style scoped>\n",
              "    .dataframe tbody tr th:only-of-type {\n",
              "        vertical-align: middle;\n",
              "    }\n",
              "\n",
              "    .dataframe tbody tr th {\n",
              "        vertical-align: top;\n",
              "    }\n",
              "\n",
              "    .dataframe thead th {\n",
              "        text-align: right;\n",
              "    }\n",
              "</style>\n",
              "<table border=\"1\" class=\"dataframe\">\n",
              "  <thead>\n",
              "    <tr style=\"text-align: right;\">\n",
              "      <th></th>\n",
              "      <th>place_id</th>\n",
              "      <th>place_name</th>\n",
              "      <th>place_description</th>\n",
              "      <th>category</th>\n",
              "      <th>city</th>\n",
              "      <th>price</th>\n",
              "      <th>rating</th>\n",
              "      <th>combined</th>\n",
              "    </tr>\n",
              "  </thead>\n",
              "  <tbody>\n",
              "    <tr>\n",
              "      <th>90</th>\n",
              "      <td>91</td>\n",
              "      <td>Taman Nasional Komodo</td>\n",
              "      <td>Taman Nasional Komodo terletak di Kepulauan Nu...</td>\n",
              "      <td>Bahari,Taman Hiburan,Taman Nasional</td>\n",
              "      <td>Manggarai</td>\n",
              "      <td>Rp300,000</td>\n",
              "      <td>4.7</td>\n",
              "      <td>Bahari,Taman Hiburan,Taman Nasional Taman Nasi...</td>\n",
              "    </tr>\n",
              "  </tbody>\n",
              "</table>\n",
              "</div>"
            ],
            "text/plain": [
              "    place_id             place_name  \\\n",
              "90        91  Taman Nasional Komodo   \n",
              "\n",
              "                                    place_description  \\\n",
              "90  Taman Nasional Komodo terletak di Kepulauan Nu...   \n",
              "\n",
              "                               category       city      price  rating  \\\n",
              "90  Bahari,Taman Hiburan,Taman Nasional  Manggarai  Rp300,000     4.7   \n",
              "\n",
              "                                             combined  \n",
              "90  Bahari,Taman Hiburan,Taman Nasional Taman Nasi...  "
            ]
          },
          "metadata": {},
          "output_type": "display_data"
        },
        {
          "name": "stdout",
          "output_type": "stream",
          "text": [
            "\n",
            "Rekomendasi tempat wisata yang mirip:\n"
          ]
        },
        {
          "data": {
            "text/html": [
              "<div>\n",
              "<style scoped>\n",
              "    .dataframe tbody tr th:only-of-type {\n",
              "        vertical-align: middle;\n",
              "    }\n",
              "\n",
              "    .dataframe tbody tr th {\n",
              "        vertical-align: top;\n",
              "    }\n",
              "\n",
              "    .dataframe thead th {\n",
              "        text-align: right;\n",
              "    }\n",
              "</style>\n",
              "<table border=\"1\" class=\"dataframe\">\n",
              "  <thead>\n",
              "    <tr style=\"text-align: right;\">\n",
              "      <th></th>\n",
              "      <th>place_name</th>\n",
              "      <th>category</th>\n",
              "      <th>city</th>\n",
              "      <th>similarity</th>\n",
              "    </tr>\n",
              "  </thead>\n",
              "  <tbody>\n",
              "    <tr>\n",
              "      <th>0</th>\n",
              "      <td>Taman Nasional Karimunjawa</td>\n",
              "      <td>Bahari,Taman Hiburan,Taman Nasional</td>\n",
              "      <td>Jepara</td>\n",
              "      <td>0.427516</td>\n",
              "    </tr>\n",
              "    <tr>\n",
              "      <th>1</th>\n",
              "      <td>Taman Nasional Gunung Merbabu</td>\n",
              "      <td>Budaya,Taman Nasional</td>\n",
              "      <td>Magelang</td>\n",
              "      <td>0.351241</td>\n",
              "    </tr>\n",
              "    <tr>\n",
              "      <th>2</th>\n",
              "      <td>Taman Nasional Kerinci Seblat</td>\n",
              "      <td>Taman Nasional,Cagar Alam</td>\n",
              "      <td>Solok Selatan</td>\n",
              "      <td>0.335459</td>\n",
              "    </tr>\n",
              "    <tr>\n",
              "      <th>3</th>\n",
              "      <td>Taman Nasional Ujung Kulon</td>\n",
              "      <td>Budaya,Cagar Alam,Taman Nasional</td>\n",
              "      <td>Banten</td>\n",
              "      <td>0.328086</td>\n",
              "    </tr>\n",
              "    <tr>\n",
              "      <th>4</th>\n",
              "      <td>Taman Nasional Bukit Barisan Selatan</td>\n",
              "      <td>Taman Nasional,Cagar Alam</td>\n",
              "      <td>Lampung</td>\n",
              "      <td>0.306411</td>\n",
              "    </tr>\n",
              "  </tbody>\n",
              "</table>\n",
              "</div>"
            ],
            "text/plain": [
              "                             place_name                             category  \\\n",
              "0            Taman Nasional Karimunjawa  Bahari,Taman Hiburan,Taman Nasional   \n",
              "1         Taman Nasional Gunung Merbabu                Budaya,Taman Nasional   \n",
              "2         Taman Nasional Kerinci Seblat            Taman Nasional,Cagar Alam   \n",
              "3            Taman Nasional Ujung Kulon     Budaya,Cagar Alam,Taman Nasional   \n",
              "4  Taman Nasional Bukit Barisan Selatan            Taman Nasional,Cagar Alam   \n",
              "\n",
              "            city  similarity  \n",
              "0         Jepara    0.427516  \n",
              "1       Magelang    0.351241  \n",
              "2  Solok Selatan    0.335459  \n",
              "3         Banten    0.328086  \n",
              "4        Lampung    0.306411  "
            ]
          },
          "metadata": {},
          "output_type": "display_data"
        }
      ],
      "source": [
        "# Contoh nama tempat wisata yang ingin dicek\n",
        "place_name_test = \"Taman Nasional Komodo\"  # Ganti dengan nama tempat lain sesuai kebutuhan\n",
        "\n",
        "# Menampilkan detail tempat wisata yang dicari\n",
        "print(\"Detail tempat wisata yang dicari:\")\n",
        "display(places[places.place_name.eq(place_name_test)])\n",
        "\n",
        "# Mendapatkan rekomendasi tempat wisata yang mirip\n",
        "print(\"\\nRekomendasi tempat wisata yang mirip:\")\n",
        "display(recommend_places(\n",
        "    place_name=place_name_test,\n",
        "    similarity_df=cosine_sim_df,\n",
        "    item_data=places[['place_name', 'category', 'city']],\n",
        "    k=5\n",
        "))\n"
      ]
    },
    {
      "cell_type": "markdown",
      "metadata": {
        "id": "u6tJgA-63guY"
      },
      "source": [
        "###Evaluasi Model dengan Collaborative Filtering"
      ]
    },
    {
      "cell_type": "code",
      "execution_count": null,
      "metadata": {
        "colab": {
          "base_uri": "https://localhost:8080/",
          "height": 472
        },
        "id": "vpWB83Kl3L4I",
        "outputId": "8863e3e1-66a6-454b-a9e1-0887346e2be2"
      },
      "outputs": [
        {
          "data": {
            "image/png": "[encoded data removed]",
            "text/plain": [
              "<Figure size 640x480 with 1 Axes>"
            ]
          },
          "metadata": {},
          "output_type": "display_data"
        }
      ],
      "source": [
        "plt.plot(history.history['root_mean_squared_error'], label='Train RMSE')\n",
        "plt.plot(history.history['val_root_mean_squared_error'], label='Val RMSE')\n",
        "plt.xlabel('Epoch')\n",
        "plt.ylabel('RMSE')\n",
        "plt.legend()\n",
        "plt.title('RMSE per Epoch')\n",
        "plt.grid(True)\n",
        "plt.show()"
      ]
    },
    {
      "cell_type": "markdown",
      "metadata": {
        "id": "Lcw2M04UGYin"
      },
      "source": [
        "#Fine Tunning (Collaborative Filtering)"
      ]
    },
    {
      "cell_type": "code",
      "execution_count": null,
      "metadata": {
        "id": "8Q_I59bXX-2V"
      },
      "outputs": [],
      "source": [
        "# Menyiapkan data\n",
        "from sklearn.model_selection import train_test_split\n",
        "from sklearn.preprocessing import LabelEncoder\n",
        "\n",
        "user_encoder = LabelEncoder()\n",
        "place_encoder = LabelEncoder()\n",
        "\n",
        "ratings['user'] = user_encoder.fit_transform(ratings['user_id'])\n",
        "ratings['place'] = place_encoder.fit_transform(ratings['place_id'])\n",
        "\n",
        "ratings['normalized_rating'] = ratings['user_rating'] / 5.0\n",
        "\n",
        "x = ratings[['user', 'place']].values\n",
        "y = ratings['normalized_rating'].values\n",
        "\n",
        "x_train, x_val, y_train, y_val = train_test_split(x, y, test_size=0.2, random_state=42)\n"
      ]
    },
    {
      "cell_type": "code",
      "execution_count": null,
      "metadata": {
        "id": "6EM_jjx8YCTC"
      },
      "outputs": [],
      "source": [
        "# Definisikan model RecommenderNet\n",
        "import tensorflow as tf\n",
        "from tensorflow.keras import layers, regularizers\n",
        "\n",
        "class RecommenderNet(tf.keras.Model):\n",
        "    def __init__(self, users_count, places_count, embedding_size=50, l2_reg=1e-6, **kwargs):\n",
        "        super(RecommenderNet, self).__init__(**kwargs)\n",
        "        self.user_embedding = layers.Embedding(users_count, embedding_size,\n",
        "                                            embeddings_initializer='he_normal',\n",
        "                                            embeddings_regularizer=regularizers.l2(l2_reg))\n",
        "        self.user_bias = layers.Embedding(users_count, 1)\n",
        "        self.place_embedding = layers.Embedding(places_count, embedding_size,\n",
        "                                                embeddings_initializer='he_normal',\n",
        "                                                embeddings_regularizer=regularizers.l2(l2_reg))\n",
        "        self.place_bias = layers.Embedding(places_count, 1)\n",
        "\n",
        "    def call(self, inputs):\n",
        "        user_vector = self.user_embedding(inputs[:, 0])\n",
        "        user_bias = self.user_bias(inputs[:, 0])\n",
        "        place_vector = self.place_embedding(inputs[:, 1])\n",
        "        place_bias = self.place_bias(inputs[:, 1])\n",
        "        dot_user_place = tf.reduce_sum(user_vector * place_vector, axis=1, keepdims=True)\n",
        "        return tf.nn.sigmoid(dot_user_place + user_bias + place_bias)\n",
        "\n",
        "    def build(self, input_shape):\n",
        "        super(RecommenderNet, self).build(input_shape)\n"
      ]
    },
    {
      "cell_type": "code",
      "execution_count": null,
      "metadata": {
        "id": "7h4R8YskYKgi"
      },
      "outputs": [],
      "source": [
        "from tensorflow import keras\n",
        "import keras_tuner as kt\n",
        "\n",
        "users_count = ratings['user'].nunique()\n",
        "places_count = ratings['place'].nunique()\n",
        "\n",
        "def build_model(hp):\n",
        "    embedding_size = hp.Int('embedding_size', min_value=10, max_value=100, step=10)\n",
        "    learning_rate = hp.Float('learning_rate', 1e-4, 1e-2, sampling='log')\n",
        "    l2_reg = hp.Float('l2_regularization', 1e-6, 1e-4, sampling='log')\n",
        "\n",
        "    model = RecommenderNet(users_count, places_count,\n",
        "                        embedding_size=embedding_size,\n",
        "                        l2_reg=l2_reg)\n",
        "\n",
        "    model.build(input_shape=(None, 2))  # input shape untuk batch dengan 2 fitur\n",
        "\n",
        "    model.compile(\n",
        "        optimizer=keras.optimizers.Adam(learning_rate=learning_rate),\n",
        "        loss='mse',\n",
        "        metrics=[keras.metrics.RootMeanSquaredError()]\n",
        "    )\n",
        "    return model\n"
      ]
    },
    {
      "cell_type": "code",
      "execution_count": null,
      "metadata": {
        "colab": {
          "base_uri": "https://localhost:8080/"
        },
        "id": "jC9yaLsuYM-O",
        "outputId": "b898e166-ba8c-400e-9193-159595c6cbaa"
      },
      "outputs": [
        {
          "name": "stdout",
          "output_type": "stream",
          "text": [
            "Reloading Tuner from my_dir\\recommender_tuning\\tuner0.json\n"
          ]
        }
      ],
      "source": [
        "tuner = kt.Hyperband(\n",
        "    build_model,\n",
        "    objective=kt.Objective('val_root_mean_squared_error',direction= 'min'),\n",
        "    max_epochs=30,\n",
        "    factor=3,\n",
        "    directory='my_dir',\n",
        "    project_name='recommender_tuning'\n",
        ")\n",
        "\n",
        "early_stop = keras.callbacks.EarlyStopping(\n",
        "    monitor='val_root_mean_squared_error',\n",
        "    patience=5,\n",
        "    restore_best_weights=True\n",
        ")\n",
        "\n",
        "tuner.search(x_train, y_train,\n",
        "            validation_data=(x_val, y_val),\n",
        "            epochs=30,\n",
        "            batch_size=16,\n",
        "            callbacks=[early_stop])\n"
      ]
    },
    {
      "cell_type": "code",
      "execution_count": null,
      "metadata": {
        "colab": {
          "base_uri": "https://localhost:8080/"
        },
        "id": "txIMSJRsYOxw",
        "outputId": "cad6866a-0176-40e5-e1af-ca495b1c3928"
      },
      "outputs": [
        {
          "name": "stdout",
          "output_type": "stream",
          "text": [
            "Epoch 1/100\n",
            "43/43 [==============================] - 2s 26ms/step - loss: 0.0810 - root_mean_squared_error: 0.2728 - val_loss: 0.0741 - val_root_mean_squared_error: 0.2635\n",
            "Epoch 2/100\n",
            "43/43 [==============================] - 1s 22ms/step - loss: 0.0614 - root_mean_squared_error: 0.2377 - val_loss: 0.0677 - val_root_mean_squared_error: 0.2495\n",
            "Epoch 3/100\n",
            "43/43 [==============================] - 1s 22ms/step - loss: 0.0493 - root_mean_squared_error: 0.2072 - val_loss: 0.0653 - val_root_mean_squared_error: 0.2402\n",
            "Epoch 4/100\n",
            "43/43 [==============================] - 1s 25ms/step - loss: 0.0400 - root_mean_squared_error: 0.1760 - val_loss: 0.0646 - val_root_mean_squared_error: 0.2326\n",
            "Epoch 5/100\n",
            "43/43 [==============================] - 1s 27ms/step - loss: 0.0337 - root_mean_squared_error: 0.1480 - val_loss: 0.0653 - val_root_mean_squared_error: 0.2286\n",
            "Epoch 6/100\n",
            "43/43 [==============================] - 1s 23ms/step - loss: 0.0301 - root_mean_squared_error: 0.1280 - val_loss: 0.0654 - val_root_mean_squared_error: 0.2255\n",
            "Epoch 7/100\n",
            "43/43 [==============================] - 1s 23ms/step - loss: 0.0280 - root_mean_squared_error: 0.1142 - val_loss: 0.0652 - val_root_mean_squared_error: 0.2233\n",
            "Epoch 8/100\n",
            "43/43 [==============================] - 1s 24ms/step - loss: 0.0268 - root_mean_squared_error: 0.1059 - val_loss: 0.0647 - val_root_mean_squared_error: 0.2215\n",
            "Epoch 9/100\n",
            "43/43 [==============================] - 1s 27ms/step - loss: 0.0259 - root_mean_squared_error: 0.1021 - val_loss: 0.0638 - val_root_mean_squared_error: 0.2201\n",
            "Epoch 10/100\n",
            "43/43 [==============================] - 1s 29ms/step - loss: 0.0251 - root_mean_squared_error: 0.0997 - val_loss: 0.0631 - val_root_mean_squared_error: 0.2191\n",
            "Epoch 11/100\n"
          ]
        },
        {
          "ename": "KeyboardInterrupt",
          "evalue": "",
          "output_type": "error",
          "traceback": [
            "\u001b[1;31m---------------------------------------------------------------------------\u001b[0m",
            "\u001b[1;31mKeyboardInterrupt\u001b[0m                         Traceback (most recent call last)",
            "Cell \u001b[1;32mIn[72], line 5\u001b[0m\n\u001b[0;32m      1\u001b[0m best_hp \u001b[38;5;241m=\u001b[39m tuner\u001b[38;5;241m.\u001b[39mget_best_hyperparameters(num_trials\u001b[38;5;241m=\u001b[39m\u001b[38;5;241m1\u001b[39m)[\u001b[38;5;241m0\u001b[39m]\n\u001b[0;32m      3\u001b[0m final_model \u001b[38;5;241m=\u001b[39m build_model(best_hp)\n\u001b[1;32m----> 5\u001b[0m \u001b[43mfinal_model\u001b[49m\u001b[38;5;241;43m.\u001b[39;49m\u001b[43mfit\u001b[49m\u001b[43m(\u001b[49m\u001b[43mx_train\u001b[49m\u001b[43m,\u001b[49m\u001b[43m \u001b[49m\u001b[43my_train\u001b[49m\u001b[43m,\u001b[49m\n\u001b[0;32m      6\u001b[0m \u001b[43m                \u001b[49m\u001b[43mvalidation_data\u001b[49m\u001b[38;5;241;43m=\u001b[39;49m\u001b[43m(\u001b[49m\u001b[43mx_val\u001b[49m\u001b[43m,\u001b[49m\u001b[43m \u001b[49m\u001b[43my_val\u001b[49m\u001b[43m)\u001b[49m\u001b[43m,\u001b[49m\n\u001b[0;32m      7\u001b[0m \u001b[43m                \u001b[49m\u001b[43mepochs\u001b[49m\u001b[38;5;241;43m=\u001b[39;49m\u001b[38;5;241;43m100\u001b[39;49m\u001b[43m,\u001b[49m\n\u001b[0;32m      8\u001b[0m \u001b[43m                \u001b[49m\u001b[43mbatch_size\u001b[49m\u001b[38;5;241;43m=\u001b[39;49m\u001b[38;5;241;43m16\u001b[39;49m\u001b[43m,\u001b[49m\n\u001b[0;32m      9\u001b[0m \u001b[43m                \u001b[49m\u001b[43mcallbacks\u001b[49m\u001b[38;5;241;43m=\u001b[39;49m\u001b[43m[\u001b[49m\u001b[43mearly_stop\u001b[49m\u001b[43m]\u001b[49m\u001b[43m)\u001b[49m\n",
            "File \u001b[1;32mc:\\Users\\LENOVO\\AppData\\Local\\Programs\\Python\\Python310\\lib\\site-packages\\keras\\utils\\traceback_utils.py:65\u001b[0m, in \u001b[0;36mfilter_traceback.<locals>.error_handler\u001b[1;34m(*args, **kwargs)\u001b[0m\n\u001b[0;32m     63\u001b[0m filtered_tb \u001b[38;5;241m=\u001b[39m \u001b[38;5;28;01mNone\u001b[39;00m\n\u001b[0;32m     64\u001b[0m \u001b[38;5;28;01mtry\u001b[39;00m:\n\u001b[1;32m---> 65\u001b[0m     \u001b[38;5;28;01mreturn\u001b[39;00m fn(\u001b[38;5;241m*\u001b[39margs, \u001b[38;5;241m*\u001b[39m\u001b[38;5;241m*\u001b[39mkwargs)\n\u001b[0;32m     66\u001b[0m \u001b[38;5;28;01mexcept\u001b[39;00m \u001b[38;5;167;01mException\u001b[39;00m \u001b[38;5;28;01mas\u001b[39;00m e:\n\u001b[0;32m     67\u001b[0m     filtered_tb \u001b[38;5;241m=\u001b[39m _process_traceback_frames(e\u001b[38;5;241m.\u001b[39m__traceback__)\n",
            "File \u001b[1;32mc:\\Users\\LENOVO\\AppData\\Local\\Programs\\Python\\Python310\\lib\\site-packages\\keras\\engine\\training.py:1564\u001b[0m, in \u001b[0;36mModel.fit\u001b[1;34m(self, x, y, batch_size, epochs, verbose, callbacks, validation_split, validation_data, shuffle, class_weight, sample_weight, initial_epoch, steps_per_epoch, validation_steps, validation_batch_size, validation_freq, max_queue_size, workers, use_multiprocessing)\u001b[0m\n\u001b[0;32m   1556\u001b[0m \u001b[38;5;28;01mwith\u001b[39;00m tf\u001b[38;5;241m.\u001b[39mprofiler\u001b[38;5;241m.\u001b[39mexperimental\u001b[38;5;241m.\u001b[39mTrace(\n\u001b[0;32m   1557\u001b[0m     \u001b[38;5;124m\"\u001b[39m\u001b[38;5;124mtrain\u001b[39m\u001b[38;5;124m\"\u001b[39m,\n\u001b[0;32m   1558\u001b[0m     epoch_num\u001b[38;5;241m=\u001b[39mepoch,\n\u001b[1;32m   (...)\u001b[0m\n\u001b[0;32m   1561\u001b[0m     _r\u001b[38;5;241m=\u001b[39m\u001b[38;5;241m1\u001b[39m,\n\u001b[0;32m   1562\u001b[0m ):\n\u001b[0;32m   1563\u001b[0m     callbacks\u001b[38;5;241m.\u001b[39mon_train_batch_begin(step)\n\u001b[1;32m-> 1564\u001b[0m     tmp_logs \u001b[38;5;241m=\u001b[39m \u001b[38;5;28;43mself\u001b[39;49m\u001b[38;5;241;43m.\u001b[39;49m\u001b[43mtrain_function\u001b[49m\u001b[43m(\u001b[49m\u001b[43miterator\u001b[49m\u001b[43m)\u001b[49m\n\u001b[0;32m   1565\u001b[0m     \u001b[38;5;28;01mif\u001b[39;00m data_handler\u001b[38;5;241m.\u001b[39mshould_sync:\n\u001b[0;32m   1566\u001b[0m         context\u001b[38;5;241m.\u001b[39masync_wait()\n",
            "File \u001b[1;32mc:\\Users\\LENOVO\\AppData\\Local\\Programs\\Python\\Python310\\lib\\site-packages\\tensorflow\\python\\util\\traceback_utils.py:150\u001b[0m, in \u001b[0;36mfilter_traceback.<locals>.error_handler\u001b[1;34m(*args, **kwargs)\u001b[0m\n\u001b[0;32m    148\u001b[0m filtered_tb \u001b[38;5;241m=\u001b[39m \u001b[38;5;28;01mNone\u001b[39;00m\n\u001b[0;32m    149\u001b[0m \u001b[38;5;28;01mtry\u001b[39;00m:\n\u001b[1;32m--> 150\u001b[0m   \u001b[38;5;28;01mreturn\u001b[39;00m fn(\u001b[38;5;241m*\u001b[39margs, \u001b[38;5;241m*\u001b[39m\u001b[38;5;241m*\u001b[39mkwargs)\n\u001b[0;32m    151\u001b[0m \u001b[38;5;28;01mexcept\u001b[39;00m \u001b[38;5;167;01mException\u001b[39;00m \u001b[38;5;28;01mas\u001b[39;00m e:\n\u001b[0;32m    152\u001b[0m   filtered_tb \u001b[38;5;241m=\u001b[39m _process_traceback_frames(e\u001b[38;5;241m.\u001b[39m__traceback__)\n",
            "File \u001b[1;32mc:\\Users\\LENOVO\\AppData\\Local\\Programs\\Python\\Python310\\lib\\site-packages\\tensorflow\\python\\eager\\def_function.py:915\u001b[0m, in \u001b[0;36mFunction.__call__\u001b[1;34m(self, *args, **kwds)\u001b[0m\n\u001b[0;32m    912\u001b[0m compiler \u001b[38;5;241m=\u001b[39m \u001b[38;5;124m\"\u001b[39m\u001b[38;5;124mxla\u001b[39m\u001b[38;5;124m\"\u001b[39m \u001b[38;5;28;01mif\u001b[39;00m \u001b[38;5;28mself\u001b[39m\u001b[38;5;241m.\u001b[39m_jit_compile \u001b[38;5;28;01melse\u001b[39;00m \u001b[38;5;124m\"\u001b[39m\u001b[38;5;124mnonXla\u001b[39m\u001b[38;5;124m\"\u001b[39m\n\u001b[0;32m    914\u001b[0m \u001b[38;5;28;01mwith\u001b[39;00m OptionalXlaContext(\u001b[38;5;28mself\u001b[39m\u001b[38;5;241m.\u001b[39m_jit_compile):\n\u001b[1;32m--> 915\u001b[0m   result \u001b[38;5;241m=\u001b[39m \u001b[38;5;28mself\u001b[39m\u001b[38;5;241m.\u001b[39m_call(\u001b[38;5;241m*\u001b[39margs, \u001b[38;5;241m*\u001b[39m\u001b[38;5;241m*\u001b[39mkwds)\n\u001b[0;32m    917\u001b[0m new_tracing_count \u001b[38;5;241m=\u001b[39m \u001b[38;5;28mself\u001b[39m\u001b[38;5;241m.\u001b[39mexperimental_get_tracing_count()\n\u001b[0;32m    918\u001b[0m without_tracing \u001b[38;5;241m=\u001b[39m (tracing_count \u001b[38;5;241m==\u001b[39m new_tracing_count)\n",
            "File \u001b[1;32mc:\\Users\\LENOVO\\AppData\\Local\\Programs\\Python\\Python310\\lib\\site-packages\\tensorflow\\python\\eager\\def_function.py:947\u001b[0m, in \u001b[0;36mFunction._call\u001b[1;34m(self, *args, **kwds)\u001b[0m\n\u001b[0;32m    944\u001b[0m   \u001b[38;5;28mself\u001b[39m\u001b[38;5;241m.\u001b[39m_lock\u001b[38;5;241m.\u001b[39mrelease()\n\u001b[0;32m    945\u001b[0m   \u001b[38;5;66;03m# In this case we have created variables on the first call, so we run the\u001b[39;00m\n\u001b[0;32m    946\u001b[0m   \u001b[38;5;66;03m# defunned version which is guaranteed to never create variables.\u001b[39;00m\n\u001b[1;32m--> 947\u001b[0m   \u001b[38;5;28;01mreturn\u001b[39;00m \u001b[38;5;28mself\u001b[39m\u001b[38;5;241m.\u001b[39m_stateless_fn(\u001b[38;5;241m*\u001b[39margs, \u001b[38;5;241m*\u001b[39m\u001b[38;5;241m*\u001b[39mkwds)  \u001b[38;5;66;03m# pylint: disable=not-callable\u001b[39;00m\n\u001b[0;32m    948\u001b[0m \u001b[38;5;28;01melif\u001b[39;00m \u001b[38;5;28mself\u001b[39m\u001b[38;5;241m.\u001b[39m_stateful_fn \u001b[38;5;129;01mis\u001b[39;00m \u001b[38;5;129;01mnot\u001b[39;00m \u001b[38;5;28;01mNone\u001b[39;00m:\n\u001b[0;32m    949\u001b[0m   \u001b[38;5;66;03m# Release the lock early so that multiple threads can perform the call\u001b[39;00m\n\u001b[0;32m    950\u001b[0m   \u001b[38;5;66;03m# in parallel.\u001b[39;00m\n\u001b[0;32m    951\u001b[0m   \u001b[38;5;28mself\u001b[39m\u001b[38;5;241m.\u001b[39m_lock\u001b[38;5;241m.\u001b[39mrelease()\n",
            "File \u001b[1;32mc:\\Users\\LENOVO\\AppData\\Local\\Programs\\Python\\Python310\\lib\\site-packages\\tensorflow\\python\\eager\\function.py:2496\u001b[0m, in \u001b[0;36mFunction.__call__\u001b[1;34m(self, *args, **kwargs)\u001b[0m\n\u001b[0;32m   2493\u001b[0m \u001b[38;5;28;01mwith\u001b[39;00m \u001b[38;5;28mself\u001b[39m\u001b[38;5;241m.\u001b[39m_lock:\n\u001b[0;32m   2494\u001b[0m   (graph_function,\n\u001b[0;32m   2495\u001b[0m    filtered_flat_args) \u001b[38;5;241m=\u001b[39m \u001b[38;5;28mself\u001b[39m\u001b[38;5;241m.\u001b[39m_maybe_define_function(args, kwargs)\n\u001b[1;32m-> 2496\u001b[0m \u001b[38;5;28;01mreturn\u001b[39;00m \u001b[43mgraph_function\u001b[49m\u001b[38;5;241;43m.\u001b[39;49m\u001b[43m_call_flat\u001b[49m\u001b[43m(\u001b[49m\n\u001b[0;32m   2497\u001b[0m \u001b[43m    \u001b[49m\u001b[43mfiltered_flat_args\u001b[49m\u001b[43m,\u001b[49m\u001b[43m \u001b[49m\u001b[43mcaptured_inputs\u001b[49m\u001b[38;5;241;43m=\u001b[39;49m\u001b[43mgraph_function\u001b[49m\u001b[38;5;241;43m.\u001b[39;49m\u001b[43mcaptured_inputs\u001b[49m\u001b[43m)\u001b[49m\n",
            "File \u001b[1;32mc:\\Users\\LENOVO\\AppData\\Local\\Programs\\Python\\Python310\\lib\\site-packages\\tensorflow\\python\\eager\\function.py:1862\u001b[0m, in \u001b[0;36mConcreteFunction._call_flat\u001b[1;34m(self, args, captured_inputs, cancellation_manager)\u001b[0m\n\u001b[0;32m   1858\u001b[0m possible_gradient_type \u001b[38;5;241m=\u001b[39m gradients_util\u001b[38;5;241m.\u001b[39mPossibleTapeGradientTypes(args)\n\u001b[0;32m   1859\u001b[0m \u001b[38;5;28;01mif\u001b[39;00m (possible_gradient_type \u001b[38;5;241m==\u001b[39m gradients_util\u001b[38;5;241m.\u001b[39mPOSSIBLE_GRADIENT_TYPES_NONE\n\u001b[0;32m   1860\u001b[0m     \u001b[38;5;129;01mand\u001b[39;00m executing_eagerly):\n\u001b[0;32m   1861\u001b[0m   \u001b[38;5;66;03m# No tape is watching; skip to running the function.\u001b[39;00m\n\u001b[1;32m-> 1862\u001b[0m   \u001b[38;5;28;01mreturn\u001b[39;00m \u001b[38;5;28mself\u001b[39m\u001b[38;5;241m.\u001b[39m_build_call_outputs(\u001b[38;5;28;43mself\u001b[39;49m\u001b[38;5;241;43m.\u001b[39;49m\u001b[43m_inference_function\u001b[49m\u001b[38;5;241;43m.\u001b[39;49m\u001b[43mcall\u001b[49m\u001b[43m(\u001b[49m\n\u001b[0;32m   1863\u001b[0m \u001b[43m      \u001b[49m\u001b[43mctx\u001b[49m\u001b[43m,\u001b[49m\u001b[43m \u001b[49m\u001b[43margs\u001b[49m\u001b[43m,\u001b[49m\u001b[43m \u001b[49m\u001b[43mcancellation_manager\u001b[49m\u001b[38;5;241;43m=\u001b[39;49m\u001b[43mcancellation_manager\u001b[49m\u001b[43m)\u001b[49m)\n\u001b[0;32m   1864\u001b[0m forward_backward \u001b[38;5;241m=\u001b[39m \u001b[38;5;28mself\u001b[39m\u001b[38;5;241m.\u001b[39m_select_forward_and_backward_functions(\n\u001b[0;32m   1865\u001b[0m     args,\n\u001b[0;32m   1866\u001b[0m     possible_gradient_type,\n\u001b[0;32m   1867\u001b[0m     executing_eagerly)\n\u001b[0;32m   1868\u001b[0m forward_function, args_with_tangents \u001b[38;5;241m=\u001b[39m forward_backward\u001b[38;5;241m.\u001b[39mforward()\n",
            "File \u001b[1;32mc:\\Users\\LENOVO\\AppData\\Local\\Programs\\Python\\Python310\\lib\\site-packages\\tensorflow\\python\\eager\\function.py:499\u001b[0m, in \u001b[0;36m_EagerDefinedFunction.call\u001b[1;34m(self, ctx, args, cancellation_manager)\u001b[0m\n\u001b[0;32m    497\u001b[0m \u001b[38;5;28;01mwith\u001b[39;00m _InterpolateFunctionError(\u001b[38;5;28mself\u001b[39m):\n\u001b[0;32m    498\u001b[0m   \u001b[38;5;28;01mif\u001b[39;00m cancellation_manager \u001b[38;5;129;01mis\u001b[39;00m \u001b[38;5;28;01mNone\u001b[39;00m:\n\u001b[1;32m--> 499\u001b[0m     outputs \u001b[38;5;241m=\u001b[39m \u001b[43mexecute\u001b[49m\u001b[38;5;241;43m.\u001b[39;49m\u001b[43mexecute\u001b[49m\u001b[43m(\u001b[49m\n\u001b[0;32m    500\u001b[0m \u001b[43m        \u001b[49m\u001b[38;5;28;43mstr\u001b[39;49m\u001b[43m(\u001b[49m\u001b[38;5;28;43mself\u001b[39;49m\u001b[38;5;241;43m.\u001b[39;49m\u001b[43msignature\u001b[49m\u001b[38;5;241;43m.\u001b[39;49m\u001b[43mname\u001b[49m\u001b[43m)\u001b[49m\u001b[43m,\u001b[49m\n\u001b[0;32m    501\u001b[0m \u001b[43m        \u001b[49m\u001b[43mnum_outputs\u001b[49m\u001b[38;5;241;43m=\u001b[39;49m\u001b[38;5;28;43mself\u001b[39;49m\u001b[38;5;241;43m.\u001b[39;49m\u001b[43m_num_outputs\u001b[49m\u001b[43m,\u001b[49m\n\u001b[0;32m    502\u001b[0m \u001b[43m        \u001b[49m\u001b[43minputs\u001b[49m\u001b[38;5;241;43m=\u001b[39;49m\u001b[43margs\u001b[49m\u001b[43m,\u001b[49m\n\u001b[0;32m    503\u001b[0m \u001b[43m        \u001b[49m\u001b[43mattrs\u001b[49m\u001b[38;5;241;43m=\u001b[39;49m\u001b[43mattrs\u001b[49m\u001b[43m,\u001b[49m\n\u001b[0;32m    504\u001b[0m \u001b[43m        \u001b[49m\u001b[43mctx\u001b[49m\u001b[38;5;241;43m=\u001b[39;49m\u001b[43mctx\u001b[49m\u001b[43m)\u001b[49m\n\u001b[0;32m    505\u001b[0m   \u001b[38;5;28;01melse\u001b[39;00m:\n\u001b[0;32m    506\u001b[0m     outputs \u001b[38;5;241m=\u001b[39m execute\u001b[38;5;241m.\u001b[39mexecute_with_cancellation(\n\u001b[0;32m    507\u001b[0m         \u001b[38;5;28mstr\u001b[39m(\u001b[38;5;28mself\u001b[39m\u001b[38;5;241m.\u001b[39msignature\u001b[38;5;241m.\u001b[39mname),\n\u001b[0;32m    508\u001b[0m         num_outputs\u001b[38;5;241m=\u001b[39m\u001b[38;5;28mself\u001b[39m\u001b[38;5;241m.\u001b[39m_num_outputs,\n\u001b[1;32m   (...)\u001b[0m\n\u001b[0;32m    511\u001b[0m         ctx\u001b[38;5;241m=\u001b[39mctx,\n\u001b[0;32m    512\u001b[0m         cancellation_manager\u001b[38;5;241m=\u001b[39mcancellation_manager)\n",
            "File \u001b[1;32mc:\\Users\\LENOVO\\AppData\\Local\\Programs\\Python\\Python310\\lib\\site-packages\\tensorflow\\python\\eager\\execute.py:54\u001b[0m, in \u001b[0;36mquick_execute\u001b[1;34m(op_name, num_outputs, inputs, attrs, ctx, name)\u001b[0m\n\u001b[0;32m     52\u001b[0m \u001b[38;5;28;01mtry\u001b[39;00m:\n\u001b[0;32m     53\u001b[0m   ctx\u001b[38;5;241m.\u001b[39mensure_initialized()\n\u001b[1;32m---> 54\u001b[0m   tensors \u001b[38;5;241m=\u001b[39m \u001b[43mpywrap_tfe\u001b[49m\u001b[38;5;241;43m.\u001b[39;49m\u001b[43mTFE_Py_Execute\u001b[49m\u001b[43m(\u001b[49m\u001b[43mctx\u001b[49m\u001b[38;5;241;43m.\u001b[39;49m\u001b[43m_handle\u001b[49m\u001b[43m,\u001b[49m\u001b[43m \u001b[49m\u001b[43mdevice_name\u001b[49m\u001b[43m,\u001b[49m\u001b[43m \u001b[49m\u001b[43mop_name\u001b[49m\u001b[43m,\u001b[49m\n\u001b[0;32m     55\u001b[0m \u001b[43m                                      \u001b[49m\u001b[43minputs\u001b[49m\u001b[43m,\u001b[49m\u001b[43m \u001b[49m\u001b[43mattrs\u001b[49m\u001b[43m,\u001b[49m\u001b[43m \u001b[49m\u001b[43mnum_outputs\u001b[49m\u001b[43m)\u001b[49m\n\u001b[0;32m     56\u001b[0m \u001b[38;5;28;01mexcept\u001b[39;00m core\u001b[38;5;241m.\u001b[39m_NotOkStatusException \u001b[38;5;28;01mas\u001b[39;00m e:\n\u001b[0;32m     57\u001b[0m   \u001b[38;5;28;01mif\u001b[39;00m name \u001b[38;5;129;01mis\u001b[39;00m \u001b[38;5;129;01mnot\u001b[39;00m \u001b[38;5;28;01mNone\u001b[39;00m:\n",
            "\u001b[1;31mKeyboardInterrupt\u001b[0m: "
          ]
        }
      ],
      "source": [
        "best_hp = tuner.get_best_hyperparameters(num_trials=1)[0]\n",
        "\n",
        "final_model = build_model(best_hp)\n",
        "\n",
        "final_model.fit(x_train, y_train,\n",
        "                validation_data=(x_val, y_val),\n",
        "                epochs=100,\n",
        "                batch_size=16,\n",
        "                callbacks=[early_stop])\n"
      ]
    }
  ],
  "metadata": {
    "colab": {
      "provenance": []
    },
    "kernelspec": {
      "display_name": "Python 3",
      "name": "python3"
    },
    "language_info": {
      "codemirror_mode": {
        "name": "ipython",
        "version": 3
      },
      "file_extension": ".py",
      "mimetype": "text/x-python",
      "name": "python",
      "nbconvert_exporter": "python",
      "pygments_lexer": "ipython3",
      "version": "3.10.0"
    }
  },
  "nbformat": 4,
  "nbformat_minor": 0
}
